{
 "cells": [
  {
   "cell_type": "code",
   "execution_count": 23,
   "metadata": {},
   "outputs": [],
   "source": [
    "import pandas as pd\n",
    "import numpy as np\n",
    "import os"
   ]
  },
  {
   "cell_type": "code",
   "execution_count": 24,
   "metadata": {},
   "outputs": [
    {
     "name": "stdout",
     "output_type": "stream",
     "text": [
      "C:\\Apurva\\Conservation Games\\Games meta-analysis\\Datasets\\Data Gabon, Orkney, Madagascar and Kenya\n"
     ]
    }
   ],
   "source": [
    "os.chdir('C:\\Apurva\\Conservation Games\\Games meta-analysis\\Datasets\\Data Gabon, Orkney, Madagascar and Kenya')\n",
    "print(os.getcwd())"
   ]
  },
  {
   "cell_type": "code",
   "execution_count": 25,
   "metadata": {},
   "outputs": [],
   "source": [
    "paths_ep_nc = ['ep_'+x+'.csv' for x in ['o', 'on', 'ob', 'obr', 'obrs']]\n",
    "paths_ep_c = ['ep_'+x+'_c.csv' for x in ['o', 'on', 'ob', 'obr', 'obrs']]\n",
    "paths_vep_nc = ['vep_'+x+'.csv' for x in ['o', 'on', 'ob', 'obr', 'obrs']]\n",
    "paths_vep_c = ['vep_'+x+'_c.csv' for x in ['o', 'on', 'ob', 'obr', 'obrs']]"
   ]
  },
  {
   "cell_type": "code",
   "execution_count": 26,
   "metadata": {},
   "outputs": [],
   "source": [
    "pd.concat([pd.read_csv(paths_ep_nc[i], index_col=0)[['coef', 'std err']] for i in range(5)], axis=1).to_csv('ep_nc.csv')\n",
    "pd.concat([pd.read_csv(paths_ep_c[i], index_col=0)[['coef', 'std err']] for i in range(5)], axis=1).to_csv('ep_c.csv')\n",
    "pd.concat([pd.read_csv(paths_vep_nc[i], index_col=0)[['coef', 'std err']] for i in range(5)], axis=1).to_csv('vep_nc.csv')\n",
    "pd.concat([pd.read_csv(paths_vep_c[i], index_col=0)[['coef', 'std err']] for i in range(5)], axis=1).to_csv('vep_c.csv')"
   ]
  }
 ],
 "metadata": {
  "kernelspec": {
   "display_name": "Python 3",
   "language": "python",
   "name": "python3"
  },
  "language_info": {
   "codemirror_mode": {
    "name": "ipython",
    "version": 3
   },
   "file_extension": ".py",
   "mimetype": "text/x-python",
   "name": "python",
   "nbconvert_exporter": "python",
   "pygments_lexer": "ipython3",
   "version": "3.7.6"
  }
 },
 "nbformat": 4,
 "nbformat_minor": 4
}

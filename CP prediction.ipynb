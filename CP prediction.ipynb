{
 "cells": [
  {
   "cell_type": "markdown",
   "metadata": {},
   "source": [
    "## Import Statements"
   ]
  },
  {
   "cell_type": "code",
   "execution_count": 705,
   "metadata": {},
   "outputs": [],
   "source": [
    "import pandas as pd\n",
    "from sklearn.model_selection import train_test_split, cross_val_score, GridSearchCV\n",
    "from sklearn.linear_model import LinearRegression\n",
    "from sklearn.tree import DecisionTreeRegressor\n",
    "from sklearn.metrics import r2_score, mean_absolute_error as mae, max_error\n",
    "from sklearn.preprocessing import PolynomialFeatures\n",
    "import matplotlib.pyplot as plt\n",
    "from random import shuffle\n",
    "from tobit import *"
   ]
  },
  {
   "cell_type": "markdown",
   "metadata": {},
   "source": [
    "## Read files into dataframe"
   ]
  },
  {
   "cell_type": "code",
   "execution_count": 706,
   "metadata": {},
   "outputs": [],
   "source": [
    "path = 'NonCropShare/'\n",
    "\n",
    "datac = pd.io.stata.read_stata(path+'joinedDataCambodia.dta')\n",
    "datav = pd.io.stata.read_stata(path+'joinedDataVietnam.dta')"
   ]
  },
  {
   "cell_type": "markdown",
   "metadata": {},
   "source": [
    "## Explore data"
   ]
  },
  {
   "cell_type": "code",
   "execution_count": 707,
   "metadata": {},
   "outputs": [
    {
     "name": "stdout",
     "output_type": "stream",
     "text": [
      "Unique to Cambodia:\n",
      "{'theta_1', 'theta_2', 'p1'}\n",
      "\n",
      "Unique to Vietnam:\n",
      "{'theta', 'z9_n'}\n"
     ]
    }
   ],
   "source": [
    "print('Unique to Cambodia:')\n",
    "print(set(datac.columns) - set(datav.columns))\n",
    "print()\n",
    "print('Unique to Vietnam:')\n",
    "print(set(datav.columns) - set(datac.columns))"
   ]
  },
  {
   "cell_type": "code",
   "execution_count": 708,
   "metadata": {},
   "outputs": [
    {
     "name": "stdout",
     "output_type": "stream",
     "text": [
      "Common to both:\n"
     ]
    },
    {
     "data": {
      "text/plain": [
       "{'AveRelationship',\n",
       " 'Game',\n",
       " 'GameOrder',\n",
       " 'Player1HHID',\n",
       " 'Player1_Score',\n",
       " 'Player1_Shannon',\n",
       " 'Player1_Time',\n",
       " 'Player2HHID',\n",
       " 'Player2_Score',\n",
       " 'Player2_Shannon',\n",
       " 'Player2_Time',\n",
       " 'Player3HHID',\n",
       " 'Player3_Score',\n",
       " 'Player3_Shannon',\n",
       " 'Player3_Time',\n",
       " 'Player4HHID',\n",
       " 'Player4_Score',\n",
       " 'Player4_Shannon',\n",
       " 'Player4_Time',\n",
       " 'Round',\n",
       " 'Session',\n",
       " 'avePlayerShannon',\n",
       " 'canceledNCH',\n",
       " 'choiceCell1',\n",
       " 'choiceCell10',\n",
       " 'choiceCell11',\n",
       " 'choiceCell12',\n",
       " 'choiceCell13',\n",
       " 'choiceCell14',\n",
       " 'choiceCell15',\n",
       " 'choiceCell16',\n",
       " 'choiceCell17',\n",
       " 'choiceCell18',\n",
       " 'choiceCell19',\n",
       " 'choiceCell2',\n",
       " 'choiceCell20',\n",
       " 'choiceCell21',\n",
       " 'choiceCell22',\n",
       " 'choiceCell23',\n",
       " 'choiceCell24',\n",
       " 'choiceCell25',\n",
       " 'choiceCell26',\n",
       " 'choiceCell27',\n",
       " 'choiceCell28',\n",
       " 'choiceCell29',\n",
       " 'choiceCell3',\n",
       " 'choiceCell30',\n",
       " 'choiceCell31',\n",
       " 'choiceCell32',\n",
       " 'choiceCell33',\n",
       " 'choiceCell34',\n",
       " 'choiceCell35',\n",
       " 'choiceCell36',\n",
       " 'choiceCell4',\n",
       " 'choiceCell5',\n",
       " 'choiceCell6',\n",
       " 'choiceCell7',\n",
       " 'choiceCell8',\n",
       " 'choiceCell9',\n",
       " 'country',\n",
       " 'gameScores',\n",
       " 'gameShannon',\n",
       " 'hhid',\n",
       " 'nchBenefits',\n",
       " 'nchBenefitsSelf',\n",
       " 'nchYield',\n",
       " 'numHS',\n",
       " 'numLS',\n",
       " 'numNCH',\n",
       " 'p1_alpha',\n",
       " 'p1_commune',\n",
       " 'p1_cropSale',\n",
       " 'p1_district',\n",
       " 'p1_drought',\n",
       " 'p1_femaleLabor',\n",
       " 'p1_flood',\n",
       " 'p1_floodLandslide',\n",
       " 'p1_fracSold_area',\n",
       " 'p1_fracSold_harvest',\n",
       " 'p1_homeGardenSafe',\n",
       " 'p1_instructedPest',\n",
       " 'p1_lambda',\n",
       " 'p1_landHHeadDecides',\n",
       " 'p1_landHHeadWorked',\n",
       " 'p1_landOwned',\n",
       " 'p1_landWorked',\n",
       " 'p1_maleLabor',\n",
       " 'p1_numPlots',\n",
       " 'p1_pestCost',\n",
       " 'p1_pestHazard',\n",
       " 'p1_selfAge',\n",
       " 'p1_selfEd',\n",
       " 'p1_selfExp',\n",
       " 'p1_selfGender',\n",
       " 'p1_selfLeader',\n",
       " 'p1_selfLit',\n",
       " 'p1_sigma',\n",
       " 'p1_storms',\n",
       " 'p1_useChemFert',\n",
       " 'p1_useImprovedSeed',\n",
       " 'p1_useOrgFert',\n",
       " 'p1_usePesticide',\n",
       " 'p1_village',\n",
       " 'p1_weedingCost',\n",
       " 'p1_weedingLabor',\n",
       " 'p2_alpha',\n",
       " 'p2_commune',\n",
       " 'p2_cropSale',\n",
       " 'p2_district',\n",
       " 'p2_drought',\n",
       " 'p2_femaleLabor',\n",
       " 'p2_flood',\n",
       " 'p2_floodLandslide',\n",
       " 'p2_fracSold_area',\n",
       " 'p2_fracSold_harvest',\n",
       " 'p2_homeGardenSafe',\n",
       " 'p2_instructedPest',\n",
       " 'p2_lambda',\n",
       " 'p2_landHHeadDecides',\n",
       " 'p2_landHHeadWorked',\n",
       " 'p2_landOwned',\n",
       " 'p2_landWorked',\n",
       " 'p2_maleLabor',\n",
       " 'p2_numPlots',\n",
       " 'p2_pestCost',\n",
       " 'p2_pestHazard',\n",
       " 'p2_selfAge',\n",
       " 'p2_selfEd',\n",
       " 'p2_selfExp',\n",
       " 'p2_selfGender',\n",
       " 'p2_selfLeader',\n",
       " 'p2_selfLit',\n",
       " 'p2_sigma',\n",
       " 'p2_storms',\n",
       " 'p2_useChemFert',\n",
       " 'p2_useImprovedSeed',\n",
       " 'p2_useOrgFert',\n",
       " 'p2_usePesticide',\n",
       " 'p2_village',\n",
       " 'p2_weedingCost',\n",
       " 'p2_weedingLabor',\n",
       " 'p3_alpha',\n",
       " 'p3_commune',\n",
       " 'p3_cropSale',\n",
       " 'p3_district',\n",
       " 'p3_drought',\n",
       " 'p3_femaleLabor',\n",
       " 'p3_flood',\n",
       " 'p3_floodLandslide',\n",
       " 'p3_fracSold_area',\n",
       " 'p3_fracSold_harvest',\n",
       " 'p3_homeGardenSafe',\n",
       " 'p3_instructedPest',\n",
       " 'p3_lambda',\n",
       " 'p3_landHHeadDecides',\n",
       " 'p3_landHHeadWorked',\n",
       " 'p3_landOwned',\n",
       " 'p3_landWorked',\n",
       " 'p3_maleLabor',\n",
       " 'p3_numPlots',\n",
       " 'p3_pestCost',\n",
       " 'p3_pestHazard',\n",
       " 'p3_selfAge',\n",
       " 'p3_selfEd',\n",
       " 'p3_selfExp',\n",
       " 'p3_selfGender',\n",
       " 'p3_selfLeader',\n",
       " 'p3_selfLit',\n",
       " 'p3_sigma',\n",
       " 'p3_storms',\n",
       " 'p3_useChemFert',\n",
       " 'p3_useImprovedSeed',\n",
       " 'p3_useOrgFert',\n",
       " 'p3_usePesticide',\n",
       " 'p3_village',\n",
       " 'p3_weedingCost',\n",
       " 'p3_weedingLabor',\n",
       " 'p4_alpha',\n",
       " 'p4_commune',\n",
       " 'p4_cropSale',\n",
       " 'p4_district',\n",
       " 'p4_drought',\n",
       " 'p4_femaleLabor',\n",
       " 'p4_flood',\n",
       " 'p4_floodLandslide',\n",
       " 'p4_fracSold_area',\n",
       " 'p4_fracSold_harvest',\n",
       " 'p4_homeGardenSafe',\n",
       " 'p4_instructedPest',\n",
       " 'p4_lambda',\n",
       " 'p4_landHHeadDecides',\n",
       " 'p4_landHHeadWorked',\n",
       " 'p4_landOwned',\n",
       " 'p4_landWorked',\n",
       " 'p4_maleLabor',\n",
       " 'p4_numPlots',\n",
       " 'p4_pestCost',\n",
       " 'p4_pestHazard',\n",
       " 'p4_selfAge',\n",
       " 'p4_selfEd',\n",
       " 'p4_selfExp',\n",
       " 'p4_selfGender',\n",
       " 'p4_selfLeader',\n",
       " 'p4_selfLit',\n",
       " 'p4_sigma',\n",
       " 'p4_storms',\n",
       " 'p4_useChemFert',\n",
       " 'p4_useImprovedSeed',\n",
       " 'p4_useOrgFert',\n",
       " 'p4_usePesticide',\n",
       " 'p4_village',\n",
       " 'p4_weedingCost',\n",
       " 'p4_weedingLabor',\n",
       " 'pestBenefits',\n",
       " 'sumSubsidies',\n",
       " 'tapCell1',\n",
       " 'tapCell10',\n",
       " 'tapCell11',\n",
       " 'tapCell12',\n",
       " 'tapCell13',\n",
       " 'tapCell14',\n",
       " 'tapCell15',\n",
       " 'tapCell16',\n",
       " 'tapCell17',\n",
       " 'tapCell18',\n",
       " 'tapCell19',\n",
       " 'tapCell2',\n",
       " 'tapCell20',\n",
       " 'tapCell21',\n",
       " 'tapCell22',\n",
       " 'tapCell23',\n",
       " 'tapCell24',\n",
       " 'tapCell25',\n",
       " 'tapCell26',\n",
       " 'tapCell27',\n",
       " 'tapCell28',\n",
       " 'tapCell29',\n",
       " 'tapCell3',\n",
       " 'tapCell30',\n",
       " 'tapCell31',\n",
       " 'tapCell32',\n",
       " 'tapCell33',\n",
       " 'tapCell34',\n",
       " 'tapCell35',\n",
       " 'tapCell36',\n",
       " 'tapCell4',\n",
       " 'tapCell5',\n",
       " 'tapCell6',\n",
       " 'tapCell7',\n",
       " 'tapCell8',\n",
       " 'tapCell9',\n",
       " 'totalArea',\n",
       " 'totalHarvest',\n",
       " 'totalTaps',\n",
       " 'z1'}"
      ]
     },
     "execution_count": 708,
     "metadata": {},
     "output_type": "execute_result"
    }
   ],
   "source": [
    "print('Common to both:')\n",
    "set(datav.columns).intersection(set(datac.columns))"
   ]
  },
  {
   "cell_type": "code",
   "execution_count": 709,
   "metadata": {},
   "outputs": [],
   "source": [
    "# Drop the uncommon attributes and original identifier z1 from both dataframes\n",
    "datac.drop(columns=['p1', 'theta_1', 'theta_2', 'z1'], inplace=True)\n",
    "datav.drop(columns=['theta', 'z9_n', 'z1'], inplace=True)"
   ]
  },
  {
   "cell_type": "code",
   "execution_count": 710,
   "metadata": {},
   "outputs": [
    {
     "data": {
      "text/plain": [
       "True"
      ]
     },
     "execution_count": 710,
     "metadata": {},
     "output_type": "execute_result"
    }
   ],
   "source": [
    "len(datac.columns) == len(datav.columns)"
   ]
  },
  {
   "cell_type": "markdown",
   "metadata": {},
   "source": [
    "## Cambodia Table:\n",
    "\n",
    "### 117 sessions x {(4 games/session x 8 rounds/game) + (1 practice-game/session x  3 rounds/practice-game)}\n",
    "\n",
    "### = 4095 rounds\n",
    "\n",
    "## Vietnam Table:\n",
    "\n",
    "### 128 sessions x {(4 games/session x 8 rounds/game) + (1 practice-game/session x  3 rounds/practice-game)}\n",
    "\n",
    "### = 4480 rounds"
   ]
  },
  {
   "cell_type": "code",
   "execution_count": 711,
   "metadata": {},
   "outputs": [
    {
     "name": "stdout",
     "output_type": "stream",
     "text": [
      "4095\n",
      "4480\n"
     ]
    }
   ],
   "source": [
    "print(len(datac))\n",
    "print(len(datav))"
   ]
  },
  {
   "cell_type": "markdown",
   "metadata": {},
   "source": [
    "## Cooperative Production"
   ]
  },
  {
   "cell_type": "code",
   "execution_count": 712,
   "metadata": {},
   "outputs": [],
   "source": [
    "# Calculate landscape production\n",
    "datac['landscapeProduction'] = datac['gameScores'] - datac['sumSubsidies']\n",
    "datav['landscapeProduction'] = datav['gameScores'] - datav['sumSubsidies']\n",
    "\n",
    "# Calculate cooperative outcome\n",
    "datac['cooperativeOutcome'] = (36 - datac['numHS']) / 36\n",
    "datav['cooperativeOutcome'] = (36 - datav['numHS']) / 36\n",
    "\n",
    "# Calculate cooperative production\n",
    "datac['cooperativeProduction'] = (datac['landscapeProduction'] * datac['cooperativeOutcome']) / 360\n",
    "datav['cooperativeProduction'] = (datav['landscapeProduction'] * datav['cooperativeOutcome']) / 360"
   ]
  },
  {
   "cell_type": "code",
   "execution_count": 713,
   "metadata": {},
   "outputs": [
    {
     "data": {
      "text/plain": [
       "count    4095.000000\n",
       "mean        0.408861\n",
       "std         0.228659\n",
       "min         0.000000\n",
       "25%         0.246952\n",
       "50%         0.416358\n",
       "75%         0.557948\n",
       "max         0.986111\n",
       "Name: cooperativeProduction, dtype: float64"
      ]
     },
     "execution_count": 713,
     "metadata": {},
     "output_type": "execute_result"
    }
   ],
   "source": [
    "datac['cooperativeProduction'].describe()"
   ]
  },
  {
   "cell_type": "code",
   "execution_count": 714,
   "metadata": {},
   "outputs": [
    {
     "data": {
      "text/plain": [
       "count    4480.000000\n",
       "mean        0.683819\n",
       "std         0.248059\n",
       "min         0.000000\n",
       "25%         0.531636\n",
       "50%         0.731944\n",
       "75%         0.894444\n",
       "max         1.033333\n",
       "Name: cooperativeProduction, dtype: float64"
      ]
     },
     "execution_count": 714,
     "metadata": {},
     "output_type": "execute_result"
    }
   ],
   "source": [
    "datav['cooperativeProduction'].describe()"
   ]
  },
  {
   "cell_type": "code",
   "execution_count": 715,
   "metadata": {},
   "outputs": [
    {
     "name": "stderr",
     "output_type": "stream",
     "text": [
      "C:\\ProgramData\\Anaconda3\\lib\\site-packages\\ipykernel_launcher.py:4: SettingWithCopyWarning: \n",
      "A value is trying to be set on a copy of a slice from a DataFrame.\n",
      "Try using .loc[row_indexer,col_indexer] = value instead\n",
      "\n",
      "See the caveats in the documentation: https://pandas.pydata.org/pandas-docs/stable/user_guide/indexing.html#returning-a-view-versus-a-copy\n",
      "  after removing the cwd from sys.path.\n"
     ]
    },
    {
     "data": {
      "text/plain": [
       "<matplotlib.axes._subplots.AxesSubplot at 0x2618020b248>"
      ]
     },
     "execution_count": 715,
     "metadata": {},
     "output_type": "execute_result"
    },
    {
     "data": {
      "image/png": "[encoded data removed]",
      "text/plain": [
       "<Figure size 432x288 with 1 Axes>"
      ]
     },
     "metadata": {
      "needs_background": "light"
     },
     "output_type": "display_data"
    }
   ],
   "source": [
    "# Check if gameScores are proprotional to cooperativeProduction or not\n",
    "\n",
    "gamedf = datac[(datac['Game']=='G4') & (datac['Session']==211)]\n",
    "gamedf['gameScoresNorm'] = gamedf['gameScores'] / max(gamedf['gameScores'])\n",
    "gamedf[['Round', 'gameScoresNorm', 'cooperativeProduction']].set_index('Round').sort_index().plot(kind='line')"
   ]
  },
  {
   "cell_type": "markdown",
   "metadata": {},
   "source": [
    "## Missing value imputation"
   ]
  },
  {
   "cell_type": "code",
   "execution_count": 716,
   "metadata": {},
   "outputs": [],
   "source": [
    "# Players' attributes lists, all other game related attributes have no missing valuess\n",
    "\n",
    "categorical_var = ['_commune', '_district', '_drought', '_flood', '_floodLandslide', '_homeGardenSafe', '_instructedPest', \n",
    "                   '_pestHazard', '_selfGender', '_selfLeader', '_selfLit', '_storms', '_useChemFert', '_useImprovedSeed', \n",
    "                  '_useOrgFert', '_usePesticide', '_village']\n",
    "\n",
    "numerical_var = ['_alpha', '_cropSale', '_femaleLabor', '_fracSold_area', '_fracSold_harvest', '_lambda', '_landHHeadDecides', \n",
    "              '_landHHeadWorked', '_landOwned', '_landWorked', '_maleLabor', '_numPlots', '_pestCost', '_selfAge', \n",
    "              '_selfEd', '_selfExp', '_sigma', '_weedingCost', '_weedingLabor']\n",
    "\n",
    "categorical_var_extended = ['p1'+s for s in categorical_var] + ['p2'+s for s in categorical_var] + ['p3'+s for s in categorical_var] + ['p4'+s for s in categorical_var]\n",
    "numerical_var_extended = ['p1'+s for s in numerical_var] + ['p2'+s for s in numerical_var] + ['p3'+s for s in numerical_var] + ['p4'+s for s in numerical_var]"
   ]
  },
  {
   "cell_type": "code",
   "execution_count": 717,
   "metadata": {},
   "outputs": [
    {
     "name": "stdout",
     "output_type": "stream",
     "text": [
      "p3_useChemFert [ 1.  0. nan]\n",
      "p4_storms [ 0. nan  1.]\n",
      "p3_pestHazard [ 1.  2. nan]\n",
      "p3_instructedPest [ 2.  1. nan]\n",
      "p4_flood [ 0.  1. nan]\n",
      "p4_drought [ 1.  0. nan]\n",
      "p4_useImprovedSeed [ 1.  0. nan]\n",
      "p3_useOrgFert [ 1.  0. nan]\n",
      "p4_usePesticide [ 0.  1. nan]\n",
      "p4_useChemFert [ 1.  0. nan]\n",
      "p4_useOrgFert [ 1.  0. nan]\n",
      "p4_floodLandslide [ 0. nan]\n",
      "p3_homeGardenSafe [ 0.  1. nan]\n",
      "p3_useImprovedSeed [ 1.  0. nan]\n",
      "p3_storms [ 0.  1. nan]\n",
      "p3_floodLandslide [ 0. nan]\n",
      "p3_usePesticide [ 0.  1. nan]\n",
      "p3_drought [ 1.  0. nan]\n",
      "p3_flood [ 0.  1. nan]\n",
      "p4_homeGardenSafe [ 0.  1. nan]\n"
     ]
    }
   ],
   "source": [
    "# Cambodia dataset\n",
    "nan_columns = set(datac.columns[datac.isna().any()]) # attributes that have missing values\n",
    "categorical_nan_cols = nan_columns.intersection(categorical_var_extended) # categorical attributes that have missing values\n",
    "numerical_nan_cols = nan_columns.intersection(numerical_var_extended) # numerical attributes that have missing values\n",
    "\n",
    "# look at the categorical attribute for replacement method selection\n",
    "for attrib in categorical_nan_cols:\n",
    "    print(attrib, datac[attrib].unique())"
   ]
  },
  {
   "cell_type": "code",
   "execution_count": 718,
   "metadata": {},
   "outputs": [],
   "source": [
    "# Replace missing values in categorical attributes by minimum and in numerical attributes by 0\n",
    "datac[list(categorical_nan_cols)] = datac[list(categorical_nan_cols)].fillna(0)\n",
    "datac[list({'p3_pestHazard', 'p3_instructedPest'})] = datac[list({'p3_pestHazard', 'p3_instructedPest'})].fillna(1)\n",
    "datac[list(numerical_nan_cols)] = datac[list(numerical_nan_cols)].fillna(0)"
   ]
  },
  {
   "cell_type": "code",
   "execution_count": 719,
   "metadata": {},
   "outputs": [
    {
     "data": {
      "text/plain": [
       "False"
      ]
     },
     "execution_count": 719,
     "metadata": {},
     "output_type": "execute_result"
    }
   ],
   "source": [
    "# Check if there are any missing values\n",
    "datac.isna().any().any()"
   ]
  },
  {
   "cell_type": "code",
   "execution_count": 720,
   "metadata": {},
   "outputs": [
    {
     "name": "stdout",
     "output_type": "stream",
     "text": [
      "p2_instructedPest [1. 2.]\n",
      "p3_selfGender [1. 2.]\n",
      "p2_useOrgFert [1. 0.]\n",
      "p3_useChemFert [1. 0.]\n",
      "p3_selfLit [2. 1.]\n",
      "p2_selfLeader [1. 2.]\n",
      "p2_useImprovedSeed [1. 0.]\n",
      "p2_pestHazard [1. 2.]\n",
      "p2_useChemFert [1. 0.]\n",
      "p4_storms [0. 1.]\n",
      "p3_district [7. 8. 6. 2. 3. 5. 1. 4.]\n",
      "p4_commune [701. 801. 601. 702. 201. 301. 503. 802. 803. 302. 502. 501. 102. 401.\n",
      " 101.]\n",
      "p4_selfLeader [2. 1.]\n",
      "p3_pestHazard [1. 2. 0.]\n",
      "p3_instructedPest [2. 1. 0.]\n",
      "p4_instructedPest [2. 1.]\n",
      "p3_village [70101. 80101. 60101. 70201. 20101. 30101. 50301. 80201. 80301. 30201.\n",
      " 30102. 50201. 50101. 10201. 40101. 10101.]\n",
      "p2_floodLandslide [0. 1.]\n",
      "p4_flood [0. 1.]\n",
      "p4_drought [1. 0.]\n",
      "p2_village [70101. 80101. 60101. 70201. 20101. 30101. 50301. 80201. 80301. 30102.\n",
      " 50201. 50101. 10201. 40101. 30201. 10101.]\n",
      "p4_useImprovedSeed [1. 0.]\n",
      "p3_useOrgFert [1. 0.]\n",
      "p4_selfGender [2. 1.]\n",
      "p4_selfLit [1. 2.]\n",
      "p2_flood [0. 1.]\n",
      "p4_usePesticide [0. 1.]\n",
      "p2_storms [0. 1.]\n",
      "p4_useChemFert [1. 0.]\n",
      "p4_useOrgFert [1. 0.]\n",
      "p4_floodLandslide [0.]\n",
      "p2_commune [701. 801. 601. 702. 201. 301. 503. 802. 803. 502. 501. 102. 401. 302.\n",
      " 101.]\n",
      "p1_village [70101. 80101. 60101. 70201. 20101. 30101. 50301. 80201. 80301. 30201.\n",
      " 30102. 50201. 50101. 10201. 40101. 10101.]\n",
      "p2_drought [1. 0.]\n",
      "p2_usePesticide [1. 0.]\n",
      "p3_homeGardenSafe [0. 1.]\n",
      "p3_selfLeader [2. 1.]\n",
      "p3_useImprovedSeed [1. 0.]\n",
      "p3_storms [0. 1.]\n",
      "p4_pestHazard [2. 1.]\n",
      "p2_district [7. 8. 6. 2. 3. 5. 1. 4.]\n",
      "p3_floodLandslide [0.]\n",
      "p4_village [70101. 80101. 60101. 70201. 20101. 30101. 50301. 80201. 80301. 30201.\n",
      " 30102. 50201. 50101. 10201. 40101. 10101.]\n",
      "p3_usePesticide [0. 1.]\n",
      "p4_district [7. 8. 6. 2. 3. 5. 1. 4.]\n",
      "p3_drought [1. 0.]\n",
      "p2_selfLit [1. 2.]\n",
      "p3_flood [0. 1.]\n",
      "p2_homeGardenSafe [0. 1.]\n",
      "p4_homeGardenSafe [0. 1.]\n",
      "p3_commune [701. 801. 601. 702. 201. 301. 503. 802. 803. 302. 502. 501. 102. 401.\n",
      " 101.]\n",
      "p2_selfGender [1. 2.]\n"
     ]
    }
   ],
   "source": [
    "# Vietnam dataset\n",
    "nan_columns = set(datav.columns[datav.isna().any()]) # attributes that have missing values\n",
    "categorical_nan_cols = nan_columns.intersection(categorical_var_extended) # categorical attributes that have missing values\n",
    "numerical_nan_cols = nan_columns.intersection(numerical_var_extended) # numerical attributes that have missing values\n",
    "\n",
    "# look at the categorical attribute for replacement method selection\n",
    "for attrib in categorical_nan_cols:\n",
    "    print(attrib, datac[attrib].unique())"
   ]
  },
  {
   "cell_type": "code",
   "execution_count": 721,
   "metadata": {},
   "outputs": [],
   "source": [
    "# separate location columns, gender columns and remaining columns\n",
    "loc_cols = ['p3_district', 'p4_commune', 'p3_village', 'p2_village', 'p2_commune', 'p1_village', 'p2_district', 'p4_village', 'p4_district', 'p3_commune']\n",
    "gender_cols = ['p2_selfGender', 'p3_selfGender', 'p4_selfGender']\n",
    "rem_cols = list(categorical_nan_cols - set(loc_cols) - set(gender_cols))"
   ]
  },
  {
   "cell_type": "code",
   "execution_count": 722,
   "metadata": {},
   "outputs": [],
   "source": [
    "# replace missing location with -1, missing gender with the most frequently occurring gender (1)\n",
    "# replace remaining missing categorical attributes with minimum and missing numerical attributes with 0\n",
    "datav[loc_cols] = datav[loc_cols].fillna(-1)\n",
    "datav[gender_cols] = datav[gender_cols].fillna(1)\n",
    "datav[rem_cols] = datav[rem_cols].fillna(datav[rem_cols].min())\n",
    "datav[list(numerical_nan_cols)] = datav[list(numerical_nan_cols)].fillna(0)"
   ]
  },
  {
   "cell_type": "code",
   "execution_count": 723,
   "metadata": {},
   "outputs": [
    {
     "data": {
      "text/plain": [
       "False"
      ]
     },
     "execution_count": 723,
     "metadata": {},
     "output_type": "execute_result"
    }
   ],
   "source": [
    "# Check if there are any missing values\n",
    "datav.isna().any().any()"
   ]
  },
  {
   "cell_type": "markdown",
   "metadata": {},
   "source": [
    "## Analysis 1: Predict CP using last round (#8) of each game"
   ]
  },
  {
   "cell_type": "code",
   "execution_count": 724,
   "metadata": {},
   "outputs": [],
   "source": [
    "# One hot encode the treatment variable 'Game'\n",
    "datac = pd.concat([datac, pd.get_dummies(datac['Game'])], axis = 1)\n",
    "datav = pd.concat([datav, pd.get_dummies(datav['Game'])], axis = 1)"
   ]
  },
  {
   "cell_type": "code",
   "execution_count": 725,
   "metadata": {},
   "outputs": [],
   "source": [
    "# Drop all practice game records and records of rounds other than round #8\n",
    "datac.drop(datac[datac['Round']<8].index, inplace=True)\n",
    "datac.drop(datac[datac['Game']=='GP'].index, inplace=True)\n",
    "datav.drop(datav[datav['Round']<8].index, inplace=True)\n",
    "datav.drop(datav[datav['Game']=='GP'].index, inplace=True)"
   ]
  },
  {
   "cell_type": "code",
   "execution_count": 726,
   "metadata": {},
   "outputs": [],
   "source": [
    "# Drop tapCell{x}, choiceCell{x}, Game, GameOrder, Session, Round, hhid and GP\n",
    "# Drop player identifier (Player{x}HHID), leakage/ irrelevant variables (Player{x}_Score, Player{x}_Shannon, Player{x}_Time)\n",
    "\n",
    "datac.drop(columns=['Game', 'GameOrder', 'Session', 'Round', 'hhid', 'GP'], inplace=True)\n",
    "datac.drop(columns=['tapCell'+str(x) for x in range(1,37)], inplace=True)\n",
    "datac.drop(columns=['choiceCell'+str(x) for x in range(1,37)], inplace=True)\n",
    "datac.drop(columns=['Player'+str(x)+'HHID' for x in range(1,5)], inplace=True)\n",
    "datac.drop(columns=['Player'+str(x)+'_Score' for x in range(1,5)], inplace=True)\n",
    "datac.drop(columns=['Player'+str(x)+'_Shannon' for x in range(1,5)], inplace=True)\n",
    "datac.drop(columns=['Player'+str(x)+'_Time' for x in range(1,5)], inplace=True)\n",
    "\n",
    "datav.drop(columns=['Game', 'GameOrder', 'Session', 'Round', 'hhid', 'GP'], inplace=True)\n",
    "datav.drop(columns=['tapCell'+str(x) for x in range(1,37)], inplace=True)\n",
    "datav.drop(columns=['choiceCell'+str(x) for x in range(1,37)], inplace=True)\n",
    "datav.drop(columns=['Player'+str(x)+'HHID' for x in range(1,5)], inplace=True)\n",
    "datav.drop(columns=['Player'+str(x)+'_Score' for x in range(1,5)], inplace=True)\n",
    "datav.drop(columns=['Player'+str(x)+'_Shannon' for x in range(1,5)], inplace=True)\n",
    "datav.drop(columns=['Player'+str(x)+'_Time' for x in range(1,5)], inplace=True)"
   ]
  },
  {
   "cell_type": "code",
   "execution_count": 727,
   "metadata": {},
   "outputs": [],
   "source": [
    "# Selecting treatment and subsidy related attributes and dropping the rest\n",
    "\n",
    "# Variables to be kept: 'nchYield', 'avePlayerShannon', 'AveRelationship',\n",
    "# 'totalArea', 'totalHarvest', 'cooperativeProduction' (which is to be predicted later)\n",
    "\n",
    "# Drop leakage variables: 'gameScores', 'sumSubsidies', 'landscapeProduction', 'cooperativeOutcome',\n",
    "# 'numNCH', 'numHS', 'numLS', 'totalTaps', 'nchBenefits', 'nchBenefitsSelf', 'canceledNCH', 'pestBenefits', 'gameShannon'\n",
    "# Drop 'country' unless mixing data\n",
    "\n",
    "drop_list = ['gameScores', 'sumSubsidies', 'landscapeProduction', 'cooperativeOutcome', 'numNCH', 'numHS', 'numLS',\n",
    "             'totalTaps', 'nchBenefits', 'nchBenefitsSelf', 'canceledNCH', 'pestBenefits', 'country', 'gameShannon']\n",
    "\n",
    "datac.drop(columns=drop_list, inplace=True)\n",
    "datav.drop(columns=drop_list, inplace=True)"
   ]
  },
  {
   "cell_type": "code",
   "execution_count": 728,
   "metadata": {},
   "outputs": [],
   "source": [
    "# Add country column\n",
    "datav['country'] = 0\n",
    "datac['country'] = 1"
   ]
  },
  {
   "cell_type": "code",
   "execution_count": 729,
   "metadata": {},
   "outputs": [],
   "source": [
    "# Concatenate the two dataframes\n",
    "data = pd.concat([datac, datav], axis=0)"
   ]
  },
  {
   "cell_type": "code",
   "execution_count": 730,
   "metadata": {},
   "outputs": [
    {
     "data": {
      "text/plain": [
       "980"
      ]
     },
     "execution_count": 730,
     "metadata": {},
     "output_type": "execute_result"
    }
   ],
   "source": [
    "len(data)"
   ]
  },
  {
   "cell_type": "code",
   "execution_count": 731,
   "metadata": {},
   "outputs": [],
   "source": [
    "# Players' attributes/ characteristics lists\n",
    "\n",
    "categorical_var = ['_commune', '_district', '_drought', '_flood', '_floodLandslide', '_homeGardenSafe', '_instructedPest', \n",
    "                   '_pestHazard', '_selfGender', '_selfLeader', '_selfLit', '_storms', '_useChemFert', '_useImprovedSeed', \n",
    "                  '_useOrgFert', '_usePesticide', '_village']\n",
    "\n",
    "numerical_var = ['_alpha', '_cropSale', '_femaleLabor', '_fracSold_area', '_fracSold_harvest', '_lambda', '_landHHeadDecides', \n",
    "              '_landHHeadWorked', '_landOwned', '_landWorked', '_maleLabor', '_numPlots', '_pestCost', '_selfAge', \n",
    "              '_selfEd', '_selfExp', '_sigma', '_weedingCost', '_weedingLabor']"
   ]
  },
  {
   "cell_type": "code",
   "execution_count": 732,
   "metadata": {},
   "outputs": [],
   "source": [
    "# Convert categorical_var from float to int (to remove .0)\n",
    "for var in categorical_var:\n",
    "    data['p1'+var] = data['p1'+var].astype(int)\n",
    "    data['p2'+var] = data['p2'+var].astype(int)\n",
    "    data['p3'+var] = data['p3'+var].astype(int)\n",
    "    data['p4'+var] = data['p4'+var].astype(int)"
   ]
  },
  {
   "cell_type": "code",
   "execution_count": 733,
   "metadata": {},
   "outputs": [],
   "source": [
    "# Create count vector features or dummy variables for the nominal categorical variables (gender, location or otherwise)\n",
    "# to calculate the fraction of players belonging to each new category (divide by 4 for fraction)\n",
    "\n",
    "for chrct in categorical_var:\n",
    "    value_set = []\n",
    "    value_set += list(data['p1'+chrct].unique())\n",
    "    value_set += list(data['p2'+chrct].unique())\n",
    "    value_set += list(data['p3'+chrct].unique())\n",
    "    value_set += list(data['p4'+chrct].unique())\n",
    "    value_set = list(set(value_set))\n",
    "    value_set\n",
    "    for val in value_set:\n",
    "        data['p'+chrct+'_'+str(val)] = data[['p1'+chrct, 'p2'+chrct, 'p3'+chrct, 'p4'+chrct]][data[['p1'+chrct, 'p2'+chrct, 'p3'+chrct, 'p4'+chrct]]==val].count(axis=1) / 4\n",
    "    data.drop(columns=['p1'+chrct, 'p2'+chrct, 'p3'+chrct, 'p4'+chrct], inplace=True)"
   ]
  },
  {
   "cell_type": "code",
   "execution_count": 734,
   "metadata": {},
   "outputs": [],
   "source": [
    "# Calculate mean and variance of the numerical attributes (characteristics) across 4 players, drop the single player information\n",
    "for chrct in numerical_var:\n",
    "    data['p'+chrct+'_mean'] = data[['p1'+chrct, 'p2'+chrct, 'p3'+chrct, 'p4'+chrct]].mean(axis=1)\n",
    "    data['p'+chrct+'_var'] = data[['p1'+chrct, 'p2'+chrct, 'p3'+chrct, 'p4'+chrct]].var(axis=1)\n",
    "    data.drop(columns=['p1'+chrct, 'p2'+chrct, 'p3'+chrct, 'p4'+chrct], inplace=True)"
   ]
  },
  {
   "cell_type": "code",
   "execution_count": null,
   "metadata": {},
   "outputs": [],
   "source": []
  },
  {
   "cell_type": "markdown",
   "metadata": {},
   "source": [
    "### Train-test split: Sorted Stratification"
   ]
  },
  {
   "cell_type": "code",
   "execution_count": 735,
   "metadata": {},
   "outputs": [],
   "source": [
    "data.sort_values(by='cooperativeProduction', inplace=True)\n",
    "data.reset_index(inplace=True)"
   ]
  },
  {
   "cell_type": "code",
   "execution_count": 737,
   "metadata": {},
   "outputs": [],
   "source": [
    "#train, test = train_test_split(data, test_size=0.2, stratify=y_binned)\n",
    "train = data.iloc[np.setdiff1d(np.arange(0,980), np.arange(4,980,5))]\n",
    "test = data.iloc[np.arange(4,980,5)]\n",
    "train.drop(columns='index', inplace=True)\n",
    "test.drop(columns='index', inplace=True)\n",
    "train = train.sample(frac=1)\n",
    "test = test.sample(frac=1)"
   ]
  },
  {
   "cell_type": "markdown",
   "metadata": {},
   "source": [
    "### Linear Regression"
   ]
  },
  {
   "cell_type": "code",
   "execution_count": 740,
   "metadata": {},
   "outputs": [
    {
     "name": "stdout",
     "output_type": "stream",
     "text": [
      "0.6713070978970506\n",
      "0.5978552562789146\n",
      "0.1312188027156754\n",
      "0.14744055246519905\n",
      "0.572998046875\n",
      "0.516357421875\n"
     ]
    },
    {
     "data": {
      "image/png": "[encoded data removed]",
      "text/plain": [
       "<Figure size 1440x432 with 1 Axes>"
      ]
     },
     "metadata": {
      "needs_background": "light"
     },
     "output_type": "display_data"
    }
   ],
   "source": [
    "#r2_train_list, r2_test_list, mae_train_list, mae_test_list, maxerr_train_list, maxerr_test_list = [], [], [], [], [], []\n",
    "\n",
    "logreg = LinearRegression(normalize=True).fit(train.drop(columns='cooperativeProduction'), train['cooperativeProduction'])\n",
    "\n",
    "print(r2_score(train['cooperativeProduction'], logreg.predict(train.drop(columns='cooperativeProduction'))))\n",
    "print(r2_score(test['cooperativeProduction'], logreg.predict(test.drop(columns='cooperativeProduction'))))\n",
    "\n",
    "print(mae(train['cooperativeProduction'], logreg.predict(train.drop(columns='cooperativeProduction'))))\n",
    "print(mae(test['cooperativeProduction'], logreg.predict(test.drop(columns='cooperativeProduction'))))\n",
    "\n",
    "print(max_error(train['cooperativeProduction'], logreg.predict(train.drop(columns='cooperativeProduction'))))\n",
    "print(max_error(test['cooperativeProduction'], logreg.predict(test.drop(columns='cooperativeProduction'))))\n",
    "\n",
    "fig = plt.figure(figsize=(20, 6))\n",
    "ax1 = fig.add_subplot(111)\n",
    "ax1.scatter(list(range(len(test))), test['cooperativeProduction'])\n",
    "ax1.scatter(list(range(len(test))), logreg.predict(test.drop(columns='cooperativeProduction')))\n",
    "plt.xticks(list(range(len(test))))\n",
    "ax1.grid()"
   ]
  },
  {
   "cell_type": "markdown",
   "metadata": {},
   "source": [
    "### Polynomial Regression"
   ]
  },
  {
   "cell_type": "code",
   "execution_count": 741,
   "metadata": {},
   "outputs": [
    {
     "name": "stdout",
     "output_type": "stream",
     "text": [
      "0.9878506422068862\n",
      "-3.3375897319997115e+21\n",
      "0.02418966257292848\n",
      "3038446401.309989\n",
      "0.19945746527777775\n",
      "145287655415.9015\n"
     ]
    }
   ],
   "source": [
    "poly = PolynomialFeatures(degree=2, interaction_only=False)\n",
    "X_train = poly.fit_transform(train.drop(columns='cooperativeProduction'))\n",
    "X_test = poly.transform(test.drop(columns='cooperativeProduction'))\n",
    "\n",
    "logreg = LinearRegression(normalize=True).fit(X_train, train['cooperativeProduction'])\n",
    "\n",
    "print(r2_score(train['cooperativeProduction'], logreg.predict(X_train)))\n",
    "print(r2_score(test['cooperativeProduction'], logreg.predict(X_test)))\n",
    "\n",
    "print(mae(train['cooperativeProduction'], logreg.predict(X_train)))\n",
    "print(mae(test['cooperativeProduction'], logreg.predict(X_test)))\n",
    "\n",
    "print(max_error(train['cooperativeProduction'], logreg.predict(X_train)))\n",
    "print(max_error(test['cooperativeProduction'], logreg.predict(X_test)))"
   ]
  },
  {
   "cell_type": "markdown",
   "metadata": {},
   "source": [
    "### Tobit Model"
   ]
  },
  {
   "cell_type": "code",
   "execution_count": 742,
   "metadata": {},
   "outputs": [
    {
     "name": "stdout",
     "output_type": "stream",
     "text": [
      "0.5319878550154649\n",
      "0.16454675759332263\n"
     ]
    },
    {
     "name": "stderr",
     "output_type": "stream",
     "text": [
      "C:\\ProgramData\\Anaconda3\\lib\\site-packages\\ipykernel_launcher.py:2: DeprecationWarning: The default dtype for empty Series will be 'object' instead of 'float64' in a future version. Specify a dtype explicitly to silence this warning.\n",
      "  \n",
      "C:\\Users\\apurv\\tobit.py:16: UserWarning: No censored observations; use regression methods for uncensored data\n",
      "  warnings.warn(\"No censored observations; use regression methods for uncensored data\")\n"
     ]
    }
   ],
   "source": [
    "tr = TobitModel()\n",
    "result = tr.fit(train.drop(columns='cooperativeProduction'), train['cooperativeProduction'], cens=pd.Series(), verbose=False)\n",
    "print(tr.score(test.drop(columns='cooperativeProduction'), test['cooperativeProduction'], scoring_function=r2_score))\n",
    "print(tr.score(test.drop(columns='cooperativeProduction'), test['cooperativeProduction'], scoring_function=mean_absolute_error))"
   ]
  },
  {
   "cell_type": "markdown",
   "metadata": {},
   "source": [
    "### Decision Tree"
   ]
  },
  {
   "cell_type": "code",
   "execution_count": 743,
   "metadata": {},
   "outputs": [
    {
     "name": "stdout",
     "output_type": "stream",
     "text": [
      "0.9800018306838558\n",
      "0.6384727061384989\n",
      "0.023544596272150838\n",
      "0.12205071071638532\n"
     ]
    }
   ],
   "source": [
    "param_grid = {'min_samples_split': np.arange(2, 10), 'min_samples_leaf': np.arange(1,10), 'criterion': ['mse', 'friedman_mse', 'mae']}\n",
    "dtreg = GridSearchCV(DecisionTreeRegressor(), param_grid)\n",
    "dtreg.fit(train.drop(columns='cooperativeProduction'), train['cooperativeProduction'])\n",
    "print(r2_score(train['cooperativeProduction'], dtreg.predict(train.drop(columns='cooperativeProduction'))))\n",
    "print(r2_score(test['cooperativeProduction'], dtreg.predict(test.drop(columns='cooperativeProduction'))))\n",
    "print(mae(train['cooperativeProduction'], dtreg.predict(train.drop(columns='cooperativeProduction'))))\n",
    "print(mae(test['cooperativeProduction'], dtreg.predict(test.drop(columns='cooperativeProduction'))))"
   ]
  },
  {
   "cell_type": "code",
   "execution_count": 744,
   "metadata": {},
   "outputs": [
    {
     "data": {
      "text/plain": [
       "{'criterion': 'friedman_mse', 'min_samples_leaf': 1, 'min_samples_split': 4}"
      ]
     },
     "execution_count": 744,
     "metadata": {},
     "output_type": "execute_result"
    }
   ],
   "source": [
    "# Get the decision tree parameters\n",
    "dtreg.best_params_"
   ]
  },
  {
   "cell_type": "code",
   "execution_count": 745,
   "metadata": {},
   "outputs": [
    {
     "data": {
      "image/png": "[encoded data removed]",
      "text/plain": [
       "<Figure size 1440x432 with 1 Axes>"
      ]
     },
     "metadata": {
      "needs_background": "light"
     },
     "output_type": "display_data"
    }
   ],
   "source": [
    "fig = plt.figure(figsize=(20, 6))\n",
    "ax1 = fig.add_subplot(111)\n",
    "ax1.scatter(list(range(len(test))), test['cooperativeProduction'])\n",
    "ax1.scatter(list(range(len(test))), dtreg.predict(test.drop(columns='cooperativeProduction')))\n",
    "plt.xticks(list(range(len(test))))\n",
    "ax1.grid()"
   ]
  },
  {
   "cell_type": "code",
   "execution_count": 747,
   "metadata": {
    "scrolled": true
   },
   "outputs": [
    {
     "data": {
      "image/png": "[encoded data removed]",
      "text/plain": [
       "<Figure size 1440x360 with 1 Axes>"
      ]
     },
     "metadata": {
      "needs_background": "light"
     },
     "output_type": "display_data"
    }
   ],
   "source": [
    "# Plot feature importances\n",
    "plt.figure(figsize=(20,5))\n",
    "feature_list = train.drop(columns='cooperativeProduction').columns\n",
    "feature_imp = dtreg.best_estimator_.feature_importances_\n",
    "feature_imp, feature_list = zip(*sorted(zip(feature_imp, feature_list)))\n",
    "plt.bar(feature_list, feature_imp)\n",
    "plt.xticks(rotation=90)\n",
    "plt.show()"
   ]
  },
  {
   "cell_type": "code",
   "execution_count": 762,
   "metadata": {},
   "outputs": [
    {
     "name": "stdout",
     "output_type": "stream",
     "text": [
      "nchYield\n",
      "p_lambda_mean\n",
      "p_maleLabor_var\n",
      "p_femaleLabor_mean\n",
      "p_alpha_var\n",
      "p_fracSold_area_mean\n",
      "p_weedingCost_var\n",
      "p_selfAge_mean\n",
      "avePlayerShannon\n",
      "country\n"
     ]
    }
   ],
   "source": [
    "# Get R2 score difference and MAE difference for each feature\n",
    "r2_all = 0.6384727061384989\n",
    "mae_all = 0.12205071071638532\n",
    "r2_diff, mae_diff =[], []\n",
    "for feature in feature_list[-10:]:\n",
    "    print(feature)\n",
    "    param_grid = {'min_samples_split': np.arange(2, 10), 'min_samples_leaf': np.arange(1,10), 'criterion': ['mse', 'friedman_mse', 'mae']}\n",
    "    dtreg = GridSearchCV(DecisionTreeRegressor(), param_grid)\n",
    "    dtreg.fit(train.drop(columns=['cooperativeProduction', feature]), train['cooperativeProduction'])\n",
    "    #print(r2_score(train['cooperativeProduction'], dtreg.predict(train.drop(columns=['cooperativeProduction', feature]))))\n",
    "    r2_diff.append(r2_all - r2_score(test['cooperativeProduction'], dtreg.predict(test.drop(columns=['cooperativeProduction', feature]))))\n",
    "    #print(mae(train['cooperativeProduction'], dtreg.predict(train.drop(columns=['cooperativeProduction', feature]))))\n",
    "    mae_diff.append(mae_all - mae(test['cooperativeProduction'], dtreg.predict(test.drop(columns=['cooperativeProduction', feature]))))"
   ]
  },
  {
   "cell_type": "code",
   "execution_count": 766,
   "metadata": {},
   "outputs": [
    {
     "name": "stdout",
     "output_type": "stream",
     "text": [
      "('nchYield', 0.00675810447635844) ('p_lambda_mean', 0.0023517285000419913) ('p_maleLabor_var', 0.0011710282415769435) ('p_femaleLabor_mean', 0.01354302859812355) ('p_alpha_var', 0.0024600812547241058) ('p_fracSold_area_mean', 0.006499721802301184) ('p_weedingCost_var', 0.0031293960485428707) ('p_selfAge_mean', 0.005155394223385998) ('avePlayerShannon', 0.007075276098093566) ('country', 0.006337173455140427)\n",
      "\n",
      "('nchYield', -0.04258970154485375) ('p_lambda_mean', -0.031115649679655633) ('p_maleLabor_var', -0.00015476662777413885) ('p_femaleLabor_mean', -0.06561636244073199) ('p_alpha_var', -0.019758946294303303) ('p_fracSold_area_mean', -0.021733130780802856) ('p_weedingCost_var', -0.011684282604181528) ('p_selfAge_mean', -0.01748209390392541) ('avePlayerShannon', -0.05795519558266382) ('country', -0.05609451834074619)\n"
     ]
    }
   ],
   "source": [
    "print(*zip(feature_list[-10:], mae_diff))\n",
    "print()\n",
    "print(*zip(feature_list[-10:], r2_diff))"
   ]
  },
  {
   "cell_type": "markdown",
   "metadata": {},
   "source": [
    "## Analysis 2: Predict CP using last 3 rounds (#6, #7, #8 - averaged) of each game"
   ]
  },
  {
   "cell_type": "code",
   "execution_count": 618,
   "metadata": {},
   "outputs": [],
   "source": [
    "# Drop all practice game records and records of rounds other than rounds #6, #7 and #8\n",
    "datac.drop(datac[datac['Round']<6].index, inplace=True)\n",
    "datac.drop(datac[datac['Game']=='GP'].index, inplace=True)\n",
    "datav.drop(datav[datav['Round']<6].index, inplace=True)\n",
    "datav.drop(datav[datav['Game']=='GP'].index, inplace=True)\n",
    "\n",
    "# Calculate average of last 3 rows:\n",
    "meanCPtable = datac[['Session', 'Game', 'cooperativeProduction']].groupby(['Session', 'Game']).mean().reset_index()\n",
    "\n",
    "# Using above table, replace the CP with its mean\n",
    "for session in datac['Session'].unique():\n",
    "    for game in datac['Game'].unique():\n",
    "        datac.loc[(datac.Session==session) & (datac.Game==game), 'cooperativeProduction'] = \\\n",
    "        meanCPtable.loc[(meanCPtable.Session==session) & (meanCPtable.Game==game), 'cooperativeProduction'].iloc[0]\n",
    "        \n",
    "# Drop records of rounds other than #8\n",
    "datac.drop(datac[datac['Round']<8].index, inplace=True)"
   ]
  }
 ],
 "metadata": {
  "kernelspec": {
   "display_name": "Python 3",
   "language": "python",
   "name": "python3"
  },
  "language_info": {
   "codemirror_mode": {
    "name": "ipython",
    "version": 3
   },
   "file_extension": ".py",
   "mimetype": "text/x-python",
   "name": "python",
   "nbconvert_exporter": "python",
   "pygments_lexer": "ipython3",
   "version": "3.7.6"
  }
 },
 "nbformat": 4,
 "nbformat_minor": 4
}

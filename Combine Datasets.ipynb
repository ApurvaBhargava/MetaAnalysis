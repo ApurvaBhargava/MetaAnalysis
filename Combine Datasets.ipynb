{
 "cells": [
  {
   "cell_type": "code",
   "execution_count": 1,
   "metadata": {},
   "outputs": [],
   "source": [
    "import pandas as pd\n",
    "import numpy as np\n",
    "from sklearn.preprocessing import StandardScaler\n",
    "import os"
   ]
  },
  {
   "cell_type": "code",
   "execution_count": 2,
   "metadata": {},
   "outputs": [
    {
     "name": "stdout",
     "output_type": "stream",
     "text": [
      "C:\\Apurva\\Conservation Games\\Games meta-analysis\\Datasets\\Data Gabon, Orkney, Madagascar and Kenya\n"
     ]
    }
   ],
   "source": [
    "os.chdir('C:\\Apurva\\Conservation Games\\Games meta-analysis\\Datasets\\Data Gabon, Orkney, Madagascar and Kenya')\n",
    "print(os.getcwd())"
   ]
  },
  {
   "cell_type": "markdown",
   "metadata": {},
   "source": [
    "# Orkney"
   ]
  },
  {
   "cell_type": "code",
   "execution_count": 3,
   "metadata": {},
   "outputs": [
    {
     "name": "stdout",
     "output_type": "stream",
     "text": [
      "672\n",
      "514\n"
     ]
    }
   ],
   "source": [
    "# read into dataframe\n",
    "orkney = pd.read_csv('orkney_grp.csv', index_col=0)\n",
    "print(len(orkney))\n",
    "\n",
    "# drop rows for which environment production cannot be calculated\n",
    "orkney.dropna(subset=['RS_1', 'BS_1', 'RS_2', 'BS_2', 'RS_3', 'BS_3', 'RS_4', 'BS_4', 'a_count'], inplace=True)\n",
    "print(len(orkney))"
   ]
  },
  {
   "cell_type": "code",
   "execution_count": 4,
   "metadata": {},
   "outputs": [],
   "source": [
    "# relevant columns\n",
    "ocolumns = ['GameID', 'Treatments', 'order', 'subsidy', 'a_count', 'RS_1', 'BS_1', 'RS_2', 'BS_2', 'RS_3', 'BS_3', 'RS_4', 'BS_4',\n",
    " 'Age_1', 'Age_2', 'Age_3', 'Age_4', 'Education_1', 'Education_2', 'Education_3', 'Education_4', 'Gender_1', 'Gender_2', 'Gender_3', 'Gender_4', \n",
    " 'RSP_type_1', 'RSP_type_2', 'RSP_type_3', 'RSP_type_4', 'Years_farming_1', 'Years_farming_2', 'Years_farming_3', 'Years_farming_4',\n",
    " 'Primary_income_1', 'Primary_income_2', 'Primary_income_3', 'Primary_income_4', 'Secondary_income_1', 'Secondary_income_2', 'Secondary_income_3', 'Secondary_income_4',\n",
    " 'Total_farm_size_1', 'Total_farm_size_2', 'Total_farm_size_3', 'Total_farm_size_4',\n",
    " 'Livestock_Sheep_1', 'Livestock_Sheep_2', 'Livestock_Sheep_3', 'Livestock_Sheep_4', 'Livestock_cattle_1', 'Livestock_cattle_2', 'Livestock_cattle_3', 'Livestock_cattle_4','How_many_other_livestock_1', 'How_many_other_livestock_2', 'How_many_other_livestock_3', 'How_many_other_livestock_4', 'What_other_livestock_1', 'What_other_livestock_2', 'What_other_livestock_3', 'What_other_livestock_4',\n",
    " 'Neg_Wellb_1', 'Neg_Wellb_2', 'Neg_Wellb_3', 'Neg_Wellb_4', 'Pos_Wellb_1', 'Pos_Wellb_2', 'Pos_Wellb_3', 'Pos_Wellb_4',\n",
    " 'Fut_Gen_1', 'Fut_Gen_2', 'Fut_Gen_3', 'Fut_Gen_4', 'Government_Responsibility_1', 'Government_Responsibility_2', 'Government_Responsibility_3', 'Government_Responsibility_4', 'Coordination_scaring_1', 'Coordination_scaring_2', 'Coordination_scaring_3', 'Coordination_scaring_4',\n",
    " 'Risk_fine_1', 'Risk_fine_2', 'Risk_fine_3', 'Risk_fine_4', 'Social_norms_1', 'Social_norms_2', 'Social_norms_3', 'Social_norms_4',\n",
    " 'Trust_NFU_1', 'Trust_NFU_2', 'Trust_NFU_3', 'Trust_NFU_4', 'Trust_RSPB_1', 'Trust_RSPB_2', 'Trust_RSPB_3', 'Trust_RSPB_4', 'Trust_SGRPID_1', 'Trust_SGRPID_2', 'Trust_SGRPID_3', 'Trust_SGRPID_4', 'Trust_SNH_1', 'Trust_SNH_2', 'Trust_SNH_3', 'Trust_SNH_4',\n",
    " 'Trust_community1_1', 'Trust_community1_2', 'Trust_community1_3', 'Trust_community1_4', 'Trust_community2_1', 'Trust_community2_2', 'Trust_community2_3', 'Trust_community2_4', 'Trust_community3_1', 'Trust_community3_2', 'Trust_community3_3', 'Trust_community3_4',\n",
    " 'Rel1_1', 'Rel1_2', 'Rel1_3', 'Rel1_4', 'Rel2_1', 'Rel2_2', 'Rel2_3', 'Rel2_4', 'Rel3_1', 'Rel3_2', 'Rel3_3', 'Rel3_4',\n",
    " 'Goal_games_1', 'Goal_games_2', 'Goal_games_3', 'Goal_games_4', 'Game_depend_on_others_1', 'Game_depend_on_others_2', 'Game_depend_on_others_3', 'Game_depend_on_others_4',\n",
    " 'Game_effect_on_others_1', 'Game_effect_on_others_2', 'Game_effect_on_others_3', 'Game_effect_on_others_4', 'Game_next_gen_1', 'Game_next_gen_2', 'Game_next_gen_3', 'Game_next_gen_4']"
   ]
  },
  {
   "cell_type": "code",
   "execution_count": 5,
   "metadata": {},
   "outputs": [
    {
     "name": "stdout",
     "output_type": "stream",
     "text": [
      "485\n"
     ]
    }
   ],
   "source": [
    "# drop all irrelevant columns\n",
    "orkney.drop(columns=set(orkney.columns) - set(ocolumns), inplace=True)\n",
    "\n",
    "# calculate environmental production\n",
    "orkney['envProduction'] = ((orkney['RS_1'] - orkney['BS_1']) + (orkney['RS_2'] - orkney['BS_2']) + \\\n",
    "                           (orkney['RS_3'] - orkney['BS_3']) + (orkney['RS_4'] - orkney['BS_4'])) * orkney['a_count']\n",
    "\n",
    "# Since How_many_other_livestock_x and What_other_livestock_x have all values NaN, we remove them.\n",
    "orkney.drop(columns=['How_many_other_livestock_1', 'How_many_other_livestock_2', 'How_many_other_livestock_3', 'How_many_other_livestock_4', 'What_other_livestock_1', 'What_other_livestock_2', 'What_other_livestock_3', 'What_other_livestock_4'], inplace=True)\n",
    "orkney.dropna(axis=0, inplace=True)\n",
    "print(len(orkney))\n",
    "\n",
    "# Add country attribute\n",
    "orkney['country'] = 'orkney'"
   ]
  },
  {
   "cell_type": "markdown",
   "metadata": {},
   "source": [
    "# Gabon"
   ]
  },
  {
   "cell_type": "code",
   "execution_count": 6,
   "metadata": {},
   "outputs": [
    {
     "name": "stdout",
     "output_type": "stream",
     "text": [
      "1984\n",
      "1492\n"
     ]
    }
   ],
   "source": [
    "# read into dataframe\n",
    "gabon = pd.read_csv('gabon_grp.csv', index_col=0)\n",
    "print(len(gabon))\n",
    "\n",
    "# drop rows for which environment production cannot be calculated\n",
    "gabon.dropna(subset=['RoS_1', 'BoS_1', 'RoS_2', 'BoS_2', 'RoS_3', 'BoS_3', 'RoS_4', 'BoS_4', 'a_count'], inplace=True)\n",
    "print(len(gabon))"
   ]
  },
  {
   "cell_type": "code",
   "execution_count": 7,
   "metadata": {},
   "outputs": [],
   "source": [
    "# relevant columns\n",
    "gcolumns = ['GameID', 'Treatments', 'Game_order', 'Cul', 'Sub', 'a_count', 'RoS_1', 'BoS_1', 'RoS_2', 'BoS_2', 'RoS_3', 'BoS_3', 'RoS_4', 'BoS_4',\n",
    " 'Age_1', 'Age_2', 'Age_3', 'Age_4', 'Education_1', 'Education_2', 'Education_3', 'Education_4', 'Gender_1', 'Gender_2', 'Gender_3', 'Gender_4', \n",
    " 'Resp_HH_head_1', 'Resp_HH_head_2', 'Resp_HH_head_3', 'Resp_HH_head_4', 'Years_Res_1', 'Years_Res_2', 'Years_Res_3', 'Years_Res_4', 'Years_Farm_1', 'Years_Farm_2', 'Years_Farm_3', 'Years_Farm_4',\n",
    " 'HH_OCC1_1', 'HH_OCC1_2', 'HH_OCC1_3', 'HH_OCC1_4', 'HH_OCC2_1', 'HH_OCC2_2', 'HH_OCC2_3', 'HH_OCC2_4',\n",
    " 'Small_field_1', 'Small_field_2', 'Small_field_3', 'Small_field_4', 'Big_field_1', 'Big_field_2', 'Big_field_3', 'Big_field_4', 'Med_field_1', 'Med_field_2', 'Med_field_3', 'Med_field_4',\n",
    " 'Livestock_1', 'Livestock_2', 'Livestock_3', 'Livestock_4',\n",
    " 'Neg_Wellb_1', 'Neg_Wellb_2', 'Neg_Wellb_3', 'Neg_Wellb_4', 'Pos_Wellb_1', 'Pos_Wellb_2', 'Pos_Wellb_3', 'Pos_Wellb_4',\n",
    " 'Fut_Gen_1', 'Fut_Gen_2', 'Fut_Gen_3', 'Fut_Gen_4', 'ANPN_resp_1', 'ANPN_resp_2', 'ANPN_resp_3', 'ANPN_resp_4','Com_Coop_1', 'Com_Coop_2', 'Com_Coop_3', 'Com_Coop_4',\n",
    " 'Prison_1', 'Prison_2', 'Prison_3', 'Prison_4', 'Social_norms_1', 'Social_norms_2', 'Social_norms_3', 'Social_norms_4',\n",
    " 'Min_Eaux_et_Forets_1', 'Min_Eaux_et_Forets_2', 'Min_Eaux_et_Forets_3', 'Min_Eaux_et_Forets_4', 'Min_Agriculture_1', 'Min_Agriculture_2', 'Min_Agriculture_3', 'Min_Agriculture_4', 'ANPN_1', 'ANPN_2', 'ANPN_3', 'ANPN_4',\n",
    " 'Community_Trust1_1', 'Community_Trust1_2', 'Community_Trust1_3', 'Community_Trust1_4', 'Community_Trust2_1', 'Community_Trust2_2', 'Community_Trust2_3', 'Community_Trust2_4', 'Community_Trust3_1', 'Community_Trust3_2', 'Community_Trust3_3', 'Community_Trust3_4',\n",
    " 'Rel1_1', 'Rel1_2', 'Rel1_3', 'Rel1_4', 'Rel2_1', 'Rel2_2', 'Rel2_3', 'Rel2_4', 'Rel3_1', 'Rel3_2', 'Rel3_3', 'Rel3_4',\n",
    " 'Games_Obj_1', 'Games_Obj_2', 'Games_Obj_3', 'Games_Obj_4', 'Games_Depend_Others_1', 'Games_Depend_Others_2', 'Games_Depend_Others_3', 'Games_Depend_Others_4',\n",
    " 'Games_Effects_Others_1', 'Games_Effects_Others_2', 'Games_Effects_Others_3', 'Games_Effects_Others_4', 'Games_Fut_gen_1', 'Games_Fut_gen_2', 'Games_Fut_gen_3', 'Games_Fut_gen_4']"
   ]
  },
  {
   "cell_type": "code",
   "execution_count": 8,
   "metadata": {},
   "outputs": [],
   "source": [
    "# drop all irrelevant columns\n",
    "gabon.drop(columns=set(gabon.columns) - set(gcolumns), inplace=True)\n",
    "\n",
    "# calculate environmental production\n",
    "gabon['envProduction'] = ((gabon['RoS_1'] - gabon['BoS_1']) + (gabon['RoS_2'] - gabon['BoS_2']) + \\\n",
    "                           (gabon['RoS_3'] - gabon['BoS_3']) + (gabon['RoS_4'] - gabon['BoS_4'])) * gabon['a_count']\n",
    "\n",
    "# Add country attribute\n",
    "gabon['country'] = 'gabon'"
   ]
  },
  {
   "cell_type": "markdown",
   "metadata": {},
   "source": [
    "# Tanzania"
   ]
  },
  {
   "cell_type": "code",
   "execution_count": 9,
   "metadata": {},
   "outputs": [
    {
     "name": "stdout",
     "output_type": "stream",
     "text": [
      "1376\n",
      "1129\n"
     ]
    },
    {
     "name": "stderr",
     "output_type": "stream",
     "text": [
      "C:\\ProgramData\\Anaconda3\\lib\\site-packages\\IPython\\core\\interactiveshell.py:3063: DtypeWarning: Columns (86,261,436,611) have mixed types.Specify dtype option on import or set low_memory=False.\n",
      "  interactivity=interactivity, compiler=compiler, result=result)\n"
     ]
    }
   ],
   "source": [
    "# read into dataframe\n",
    "tanzania = pd.read_csv('tanzania_grp.csv', index_col=0)\n",
    "print(len(tanzania))\n",
    "\n",
    "# drop rows for which environment production cannot be calculated\n",
    "tanzania.dropna(subset=['RS_1', 'BS_1', 'RS_2', 'BS_2', 'RS_3', 'BS_3', 'RS_4', 'BS_4', 'l_count'], inplace=True)\n",
    "print(len(tanzania))"
   ]
  },
  {
   "cell_type": "code",
   "execution_count": 10,
   "metadata": {},
   "outputs": [],
   "source": [
    "# relevant columns\n",
    "tcolumns = ['GameID', 'Treatments', 'order', 'culled', 'subsidy', 'l_count', 'RS_1', 'BS_1', 'RS_2', 'BS_2', 'RS_3', 'BS_3', 'RS_4', 'BS_4',\n",
    " 'Age_1', 'Age_2', 'Age_3', 'Age_4', 'Education_1', 'Education_2', 'Education_3', 'Education_4', 'Gender_1', 'Gender_2', 'Gender_3', 'Gender_4', \n",
    " 'Head_of_household_1', 'Head_of_household_2', 'Head_of_household_3', 'Head_of_household_4', 'years_at_household_1', 'years_at_household_2', 'years_at_household_3', 'years_at_household_4',\n",
    " 'Primary_income_1', 'Primary_income_2', 'Primary_income_3', 'Primary_income_4', 'Secondary_income_1', 'Secondary_income_2', 'Secondary_income_3', 'Secondary_income_4', 'Tourism_income_1', 'Tourism_income_2', 'Tourism_income_3', 'Tourism_income_4',\n",
    " 'Land_1', 'Land_2', 'Land_3', 'Land_4',\n",
    " 'No_other_1', 'No_other_2', 'No_other_3', 'No_other_4', 'No_shoats_1', 'No_shoats_2', 'No_shoats_3', 'No_shoats_4', 'No_cattle_1', 'No_cattle_2', 'No_cattle_3', 'No_cattle_4', 'No_dogs_1', 'No_dogs_2', 'No_dogs_3', 'No_dogs_4',\n",
    " 'Lions_harm_1', 'Lions_harm_2', 'Lions_harm_3', 'Lions_harm_4', 'Lions_benefit_1', 'Lions_benefit_2', 'Lions_benefit_3', 'Lions_benefit_4',\n",
    " 'Conservation_futuregen_1', 'Conservation_futuregen_2', 'Conservation_futuregen_3', 'Conservation_futuregen_4',\n",
    " 'Government_compensate_1', 'Government_compensate_2', 'Government_compensate_3', 'Government_compensate_4', 'Coordinate_scaring_1', 'Coordinate_scaring_2', 'Coordinate_scaring_3', 'Coordinate_scaring_4',\n",
    " 'Prevent_punished_1', 'Prevent_punished_2', 'Prevent_punished_3', 'Prevent_punished_4', 'Prevent_social_1', 'Prevent_social_2', 'Prevent_social_3', 'Prevent_social_4',\n",
    " 'Trust_NGOs_1', 'Trust_NGOs_2', 'Trust_NGOs_3', 'Trust_NGOs_4', 'Trust_TANAPA_1', 'Trust_TANAPA_2', 'Trust_TANAPA_3', 'Trust_TANAPA_4', 'Trust_Tanzanian_government_1', 'Trust_Tanzanian_government_2', 'Trust_Tanzanian_government_3', 'Trust_Tanzanian_government_4',\n",
    " 'Community_help_1', 'Community_help_2', 'Community_help_3', 'Community_help_4', 'Community_honest_1', 'Community_honest_2', 'Community_honest_3', 'Community_honest_4', 'More_trustworthy_1', 'More_trustworthy_2', 'More_trustworthy_3', 'More_trustworthy_4', 'Borrow_money_1', 'Borrow_money_2', 'Borrow_money_3', 'Borrow_money_4', 'Lend_money_1', 'Lend_money_2', 'Lend_money_3', 'Lend_money_4',\n",
    " 'Familiarity_1_1', 'Familiarity_1_2', 'Familiarity_1_3', 'Familiarity_1_4', 'Familiarity_2_1', 'Familiarity_2_2', 'Familiarity_2_3', 'Familiarity_2_4', 'Familiarity_3_1', 'Familiarity_3_2', 'Familiarity_3_3', 'Familiarity_3_4',\n",
    " 'Game_obj_1', 'Game_obj_2', 'Game_obj_3', 'Game_obj_4', 'Depend_on_others_1', 'Depend_on_others_2', 'Depend_on_others_3', 'Depend_on_others_4',\n",
    " 'Effect_on_others_1', 'Effect_on_others_2', 'Effect_on_others_3', 'Effect_on_others_4', 'Effect_on_future_1', 'Effect_on_future_2', 'Effect_on_future_3', 'Effect_on_future_4']"
   ]
  },
  {
   "cell_type": "code",
   "execution_count": 11,
   "metadata": {},
   "outputs": [],
   "source": [
    "# drop all irrelevant columns\n",
    "tanzania.drop(columns=set(tanzania.columns) - set(tcolumns), inplace=True)\n",
    "\n",
    "# calculate environmental production\n",
    "tanzania['envProduction'] = ((tanzania['RS_1'] - tanzania['BS_1']) + (tanzania['RS_2'] - tanzania['BS_2']) + \\\n",
    "                           (tanzania['RS_3'] - tanzania['BS_3']) + (tanzania['RS_4'] - tanzania['BS_4'])) * tanzania['l_count']\n",
    "\n",
    "# Add country attribute\n",
    "tanzania['country'] = 'tanzania'"
   ]
  },
  {
   "cell_type": "markdown",
   "metadata": {},
   "source": [
    "# Madagascar-Kenya"
   ]
  },
  {
   "cell_type": "code",
   "execution_count": 12,
   "metadata": {},
   "outputs": [
    {
     "name": "stdout",
     "output_type": "stream",
     "text": [
      "5115\n",
      "3303\n"
     ]
    },
    {
     "name": "stderr",
     "output_type": "stream",
     "text": [
      "C:\\ProgramData\\Anaconda3\\lib\\site-packages\\IPython\\core\\interactiveshell.py:3063: DtypeWarning: Columns (7,16,18,20,105,232,233,241,243,330,454,463,465,552,676,685,774) have mixed types.Specify dtype option on import or set low_memory=False.\n",
      "  interactivity=interactivity, compiler=compiler, result=result)\n"
     ]
    }
   ],
   "source": [
    "# read into dataframe\n",
    "madken = pd.read_csv('madken_grp.csv', index_col=0)\n",
    "print(len(madken))\n",
    "\n",
    "# drop rows for which environment production cannot be calculated\n",
    "madken.dropna(subset=['RouS_1', 'BonS_1', 'RouS_2', 'BonS_2', 'RouS_3', 'BonS_3', 'RouS_4', 'BonS_4', 'Bump_1', 'Bump_2', 'Bump_3', 'Bump_4'], inplace=True)\n",
    "print(len(madken))\n",
    "\n",
    "# rename columns as required\n",
    "madken.rename(columns = {\"Country\": \"country\", \"rimary_income_1\": \"Primary_income_1\", \"rimary_income_2\": \"Primary_income_2\", \"rimary_income_3\": \"Primary_income_3\", \"rimary_income_4\": \"Primary_income_4\"}, inplace = True) "
   ]
  },
  {
   "cell_type": "code",
   "execution_count": 13,
   "metadata": {},
   "outputs": [],
   "source": [
    "# relevant columns\n",
    "mcolumns = ['GAMEID', 'Treatments', 'Subs', 'country', 'Bump_1', 'Bump_2', 'Bump_3', 'Bump_4', 'RouS_1', 'BonS_1', 'RouS_2', 'BonS_2', 'RouS_3', 'BonS_3', 'RouS_4', 'BonS_4',\n",
    " 'Age_1', 'Age_2', 'Age_3', 'Age_4', 'Education_1', 'Education_2', 'Education_3', 'Education_4', 'Gender_1', 'Gender_2', 'Gender_3', 'Gender_4', \n",
    " 'HH_head_1', 'HH_head_2', 'HH_head_3', 'HH_head_4', 'Residency_years_1', 'Residency_years_2', 'Residency_years_3', 'Residency_years_4',\n",
    " 'Primary_income_1', 'Primary_income_2', 'Primary_income_3', 'Primary_income_4', 'Secondary_income_1', 'Secondary_income_2', 'Secondary_income_3', 'Secondary_income_4',\n",
    " 'Paddy_field_acres_1', 'Paddy_field_acres_2', 'Paddy_field_acres_3', 'Paddy_field_acres_4', 'Sum_tavy_acres_1', 'Sum_tavy_acres_2', 'Sum_tavy_acres_3', 'Sum_tavy_acres_4', 'Perennial_acres_1', 'Perennial_acres_2', 'Perennial_acres_3', 'Perennial_acres_4',\n",
    " 'Bees_1', 'Bees_2',\n",
    " 'Bees_3', 'Bees_4', 'Cattle_1', 'Cattle_2', 'Cattle_3', 'Cattle_4', 'Fish_1', 'Fish_2', 'Fish_3', 'Fish_4','Goats_1', 'Goats_2', 'Goats_3', 'Goats_4', 'Goose_1', 'Goose_2', 'Goose_3', 'Goose_4', 'Pork_1', 'Pork_2', 'Pork_3', 'Pork_4', 'Poultry_1', 'Poultry_2', 'Poultry_3', 'Poultry_4', 'Rabbit_1', 'Rabbit_2', 'Rabbit_3', 'Rabbit_4', 'Sheep_1', 'Sheep_2', 'Sheep_3', 'Sheep_4',\n",
    " 'Neg_wellb_1', 'Neg_wellb_2', 'Neg_wellb_3', 'Neg_wellb_4', 'Pos_wellb_1', 'Pos_wellb_2', 'Pos_wellb_3', 'Pos_wellb_4',\n",
    " 'Fut_Gen_1', 'Fut_Gen_2', 'Fut_Gen_3', 'Fut_Gen_4',\n",
    " 'Gov_resp_1', 'Gov_resp_2', 'Gov_resp_3', 'Gov_resp_4', 'Com_coord_1', 'Com_coord_2', 'Com_coord_3', 'Com_coord_4',\n",
    " 'Risks_fines_1', 'Risks_fines_2', 'Risks_fines_3', 'Risks_fines_4', 'Social_norms_1', 'Social_norms_2', 'Social_norms_3', 'Social_norms_4',\n",
    " 'Trust_COBA_CFA_1', 'Trust_COBA_CFA_2', 'Trust_COBA_CFA_3', 'Trust_COBA_CFA_4', 'Trust_MEF_1', 'Trust_MEF_2', 'Trust_MEF_3', 'Trust_MEF_4', 'Trust_MV_KFS_1', 'Trust_MV_KFS_2', 'Trust_MV_KFS_3', 'Trust_MV_KFS_4', 'Trust_MoA_1', 'Trust_MoA_2', 'Trust_MoA_3', 'Trust_MoA_4',\n",
    " 'Com_trust1_1', 'Com_trust1_2', 'Com_trust1_3', 'Com_trust1_4', 'Com_trust2_1', 'Com_trust2_2', 'Com_trust2_3', 'Com_trust2_4', 'Com_trust3_1', 'Com_trust3_2', 'Com_trust3_3', 'Com_trust3_4', 'Com_trust4_1', 'Com_trust4_2', 'Com_trust4_3', 'Com_trust4_4',\n",
    " 'familiarity.familiarity_001_1', 'familiarity.familiarity_001_2', 'familiarity.familiarity_001_3', 'familiarity.familiarity_001_4', 'familiarity.familiarity_002_1', 'familiarity.familiarity_002_2', 'familiarity.familiarity_002_3', 'familiarity.familiarity_002_4', 'familiarity.familiarity_003_1', 'familiarity.familiarity_003_2', 'familiarity.familiarity_003_3', 'familiarity.familiarity_003_4',\n",
    " 'Goal_1', 'Goal_2', 'Goal_3', 'Goal_4', 'Depend_on_others_1', 'Depend_on_others_2', 'Depend_on_others_3', 'Depend_on_others_4',\n",
    " 'Effects_on_others_1', 'Effects_on_others_2', 'Effects_on_others_3', 'Effects_on_others_4', 'Effects_on_next_gen_1', 'Effects_on_next_gen_2', 'Effects_on_next_gen_3', 'Effects_on_next_gen_4',]"
   ]
  },
  {
   "cell_type": "code",
   "execution_count": 14,
   "metadata": {},
   "outputs": [],
   "source": [
    "# drop all irrelevant columns\n",
    "madken.drop(columns=set(madken.columns) - set(mcolumns), inplace=True)\n",
    "\n",
    "# calculate environmental production\n",
    "madken['envProduction'] = (madken['RouS_1'] - madken['BonS_1']) * madken['Bump_1'] + (madken['RouS_2'] - madken['BonS_2']) * madken['Bump_2'] + \\\n",
    "                           (madken['RouS_3'] - madken['BonS_3']) * madken['Bump_3'] + (madken['RouS_4'] - madken['BonS_4']) * madken['Bump_4']"
   ]
  },
  {
   "cell_type": "code",
   "execution_count": 15,
   "metadata": {},
   "outputs": [],
   "source": [
    "madken.rename(columns={'GAMEID':'GameID'}, inplace=True)"
   ]
  },
  {
   "cell_type": "markdown",
   "metadata": {},
   "source": [
    "# Vietnam/ Cambodia"
   ]
  },
  {
   "cell_type": "code",
   "execution_count": 16,
   "metadata": {},
   "outputs": [
    {
     "name": "stdout",
     "output_type": "stream",
     "text": [
      "4480\n"
     ]
    },
    {
     "data": {
      "text/plain": [
       "Index(['Game ID', 'Player 1', 'Player 2', 'Player 3', 'Player 4', 'P1_P2',\n",
       "       'P1_P3', 'P1_P4', 'P2_P3', 'P2_P4', 'P3_P4'],\n",
       "      dtype='object')"
      ]
     },
     "execution_count": 16,
     "metadata": {},
     "output_type": "execute_result"
    }
   ],
   "source": [
    "# read into dataframe\n",
    "vietnam = pd.read_csv('Data Vietnam.csv', index_col=0)\n",
    "# update country attribute\n",
    "vietnam['country'] = 'vietnam'\n",
    "print(len(vietnam))\n",
    "relv = pd.read_csv('relationship_vietnam.csv')\n",
    "relv.columns"
   ]
  },
  {
   "cell_type": "code",
   "execution_count": 17,
   "metadata": {},
   "outputs": [
    {
     "data": {
      "text/plain": [
       "\"a = np.unique(vietnam[['Player1HHID', 'Player2HHID', 'Player3HHID', 'Player4HHID']].drop_duplicates().values)\\nb = np.unique(pd.read_csv('relationship_vietnam.csv')[['Player 1', 'Player 2', 'Player 3', 'Player 4']].values)\\nprint(set(a) - set(b))\\nu, c = np.unique(pd.read_csv('relationship_vietnam.csv')[['Player 1', 'Player 2', 'Player 3', 'Player 4']].values, return_counts=True)\\nprint(u[c > 1])\""
      ]
     },
     "execution_count": 17,
     "metadata": {},
     "output_type": "execute_result"
    }
   ],
   "source": [
    "\"\"\"a = np.unique(vietnam[['Player1HHID', 'Player2HHID', 'Player3HHID', 'Player4HHID']].drop_duplicates().values)\n",
    "b = np.unique(pd.read_csv('relationship_vietnam.csv')[['Player 1', 'Player 2', 'Player 3', 'Player 4']].values)\n",
    "print(set(a) - set(b))\n",
    "u, c = np.unique(pd.read_csv('relationship_vietnam.csv')[['Player 1', 'Player 2', 'Player 3', 'Player 4']].values, return_counts=True)\n",
    "print(u[c > 1])\"\"\""
   ]
  },
  {
   "cell_type": "code",
   "execution_count": 18,
   "metadata": {},
   "outputs": [
    {
     "name": "stdout",
     "output_type": "stream",
     "text": [
      "4480\n"
     ]
    }
   ],
   "source": [
    "vietnam = pd.merge(vietnam, relv[['Game ID', 'P1_P2', 'P1_P3', 'P1_P4', 'P2_P3', 'P2_P4', 'P3_P4']], how='left', left_on='Session', right_on='Game ID')\n",
    "vietnam['Rel1_1'] = vietnam['P1_P2']\n",
    "vietnam['Rel2_1'] = vietnam['P1_P3']\n",
    "vietnam['Rel3_1'] = vietnam['P1_P4']\n",
    "\n",
    "vietnam['Rel1_2'] = vietnam['P1_P2']\n",
    "vietnam['Rel2_2'] = vietnam['P2_P3']\n",
    "vietnam['Rel3_2'] = vietnam['P2_P4']\n",
    "\n",
    "vietnam['Rel1_3'] = vietnam['P1_P3']\n",
    "vietnam['Rel2_3'] = vietnam['P2_P3']\n",
    "vietnam['Rel3_3'] = vietnam['P3_P4']\n",
    "\n",
    "vietnam['Rel1_4'] = vietnam['P1_P4']\n",
    "vietnam['Rel2_4'] = vietnam['P2_P4']\n",
    "vietnam['Rel3_4'] = vietnam['P3_P4']\n",
    "\n",
    "vietnam.drop(columns=['P1_P2', 'P1_P3', 'P1_P4', 'P2_P3', 'P2_P4', 'P3_P4'], inplace=True)\n",
    "print(len(vietnam))"
   ]
  },
  {
   "cell_type": "code",
   "execution_count": 19,
   "metadata": {},
   "outputs": [
    {
     "name": "stdout",
     "output_type": "stream",
     "text": [
      "4095\n"
     ]
    },
    {
     "data": {
      "text/plain": [
       "Index(['Game ID', 'Player 1', 'Player 2', 'Player 3', 'Player 4', 'P1_P2',\n",
       "       'P1_P3', 'P1_P4', 'P2_P3', 'P2_P4', 'P3_P4'],\n",
       "      dtype='object')"
      ]
     },
     "execution_count": 19,
     "metadata": {},
     "output_type": "execute_result"
    }
   ],
   "source": [
    "# read into dataframe\n",
    "cambodia = pd.read_csv('Data Cambodia.csv', index_col=0)\n",
    "# update country attribute\n",
    "cambodia['country'] = 'cambodia'\n",
    "print(len(cambodia))\n",
    "relc = pd.read_csv('relationship_cambodia.csv')\n",
    "relc.columns"
   ]
  },
  {
   "cell_type": "code",
   "execution_count": 20,
   "metadata": {},
   "outputs": [
    {
     "data": {
      "text/plain": [
       "\"a = np.unique(cambodia[['Player1HHID', 'Player2HHID', 'Player3HHID', 'Player4HHID']].drop_duplicates().values)\\nb = np.unique(pd.read_csv('relationship_cambodia.csv')[['Player 1', 'Player 2', 'Player 3', 'Player 4']].values)\\nprint(set(a) - set(b))\\nprint(set(b) - set(a))\\nu, c = np.unique(pd.read_csv('relationship_cambodia.csv')[['Player 1', 'Player 2', 'Player 3', 'Player 4']].values, return_counts=True)\\nprint(u[c > 1])\""
      ]
     },
     "execution_count": 20,
     "metadata": {},
     "output_type": "execute_result"
    }
   ],
   "source": [
    "\"\"\"a = np.unique(cambodia[['Player1HHID', 'Player2HHID', 'Player3HHID', 'Player4HHID']].drop_duplicates().values)\n",
    "b = np.unique(pd.read_csv('relationship_cambodia.csv')[['Player 1', 'Player 2', 'Player 3', 'Player 4']].values)\n",
    "print(set(a) - set(b))\n",
    "print(set(b) - set(a))\n",
    "u, c = np.unique(pd.read_csv('relationship_cambodia.csv')[['Player 1', 'Player 2', 'Player 3', 'Player 4']].values, return_counts=True)\n",
    "print(u[c > 1])\"\"\""
   ]
  },
  {
   "cell_type": "code",
   "execution_count": 21,
   "metadata": {},
   "outputs": [
    {
     "name": "stdout",
     "output_type": "stream",
     "text": [
      "4095\n"
     ]
    }
   ],
   "source": [
    "cambodia = pd.merge(cambodia, relc[['Game ID', 'P1_P2', 'P1_P3', 'P1_P4', 'P2_P3', 'P2_P4', 'P3_P4']], how='left', left_on='Session', right_on='Game ID')\n",
    "cambodia['Rel1_1'] = cambodia['P1_P2']\n",
    "cambodia['Rel2_1'] = cambodia['P1_P3']\n",
    "cambodia['Rel3_1'] = cambodia['P1_P4']\n",
    "\n",
    "cambodia['Rel1_2'] = cambodia['P1_P2']\n",
    "cambodia['Rel2_2'] = cambodia['P2_P3']\n",
    "cambodia['Rel3_2'] = cambodia['P2_P4']\n",
    "\n",
    "cambodia['Rel1_3'] = cambodia['P1_P3']\n",
    "cambodia['Rel2_3'] = cambodia['P2_P3']\n",
    "cambodia['Rel3_3'] = cambodia['P3_P4']\n",
    "\n",
    "cambodia['Rel1_4'] = cambodia['P1_P4']\n",
    "cambodia['Rel2_4'] = cambodia['P2_P4']\n",
    "cambodia['Rel3_4'] = cambodia['P3_P4']\n",
    "\n",
    "cambodia.drop(columns=['P1_P2', 'P1_P3', 'P1_P4', 'P2_P3', 'P2_P4', 'P3_P4'], inplace=True)\n",
    "print(len(cambodia))"
   ]
  },
  {
   "cell_type": "code",
   "execution_count": 22,
   "metadata": {},
   "outputs": [],
   "source": [
    "# relevant columns\n",
    "ncscolumns = ['Game ID', 'Game', 'sumSubsidies', 'country', 'gameScores', 'numHS',\n",
    " 'p1_selfAge', 'p2_selfAge', 'p3_selfAge', 'p4_selfAge',\n",
    " 'p1_selfGender', 'p2_selfGender', 'p3_selfGender', 'p4_selfGender',\n",
    " 'p1_selfEd', 'p2_selfEd', 'p3_selfEd', 'p4_selfEd',\n",
    " 'p1_selfLeader', 'p2_selfLeader', 'p3_selfLeader', 'p4_selfLeader',\n",
    " 'totalArea', 'AveRelationship', 'Rel1_1', 'Rel1_2', 'Rel1_3', 'Rel1_4',\n",
    " 'Rel2_1', 'Rel2_2', 'Rel2_3', 'Rel2_4', 'Rel3_1', 'Rel3_2', 'Rel3_3', 'Rel3_4']"
   ]
  },
  {
   "cell_type": "code",
   "execution_count": 23,
   "metadata": {},
   "outputs": [
    {
     "name": "stdout",
     "output_type": "stream",
     "text": [
      "7840\n"
     ]
    }
   ],
   "source": [
    "# concatenate the two datasets with only the relevant columns\n",
    "vietcamb = pd.concat([vietnam[ncscolumns], cambodia[ncscolumns]], axis=0)\n",
    "\n",
    "# drop rows with practice rounds\n",
    "vietcamb = vietcamb[vietcamb['Game']!='GP']\n",
    "print(len(vietcamb))\n",
    "\n",
    "# calculate environmental production\n",
    "vietcamb['envProduction'] = (vietcamb.gameScores - vietcamb.sumSubsidies) * (36 - vietcamb.numHS)"
   ]
  },
  {
   "cell_type": "code",
   "execution_count": 24,
   "metadata": {},
   "outputs": [],
   "source": [
    "vietcamb.rename(columns={'Game ID':'GameID'}, inplace=True)"
   ]
  },
  {
   "cell_type": "markdown",
   "metadata": {},
   "source": [
    "# Harmonise attributes"
   ]
  },
  {
   "cell_type": "markdown",
   "metadata": {},
   "source": [
    "### i. Subsidy level"
   ]
  },
  {
   "cell_type": "code",
   "execution_count": 25,
   "metadata": {},
   "outputs": [],
   "source": [
    "# convert to dummy (yes or no)\n",
    "orkney.replace({'subsidy': {0:0, 2:1, 4:1, 6:1}}, inplace=True)\n",
    "gabon.replace({'Sub': {0:0, 2:1, 4:1, 6:1}}, inplace=True)\n",
    "tanzania.replace({'subsidy': {0:0, 4:1, 8:1, 12:1}}, inplace=True)\n",
    "madken.replace({'Subs': {0:0, 4:1, 8:1, 12:1}}, inplace=True)"
   ]
  },
  {
   "cell_type": "code",
   "execution_count": 26,
   "metadata": {},
   "outputs": [],
   "source": [
    "gabon.rename(columns={\"Sub\": \"subsidy\"}, inplace=True)\n",
    "madken.rename(columns={\"Subs\": \"subsidy\"}, inplace=True)"
   ]
  },
  {
   "cell_type": "code",
   "execution_count": 27,
   "metadata": {},
   "outputs": [],
   "source": [
    "#vietcamb['subsidy'] = pd.cut(vietcamb['sumSubsidies'], bins=4, labels=[0,2,4,6])\n",
    "#print(vietcamb['sumSubsidies'].value_counts())\n",
    "vietcamb['subsidy'] = np.where(vietcamb['sumSubsidies']==0, 0, 1)"
   ]
  },
  {
   "cell_type": "markdown",
   "metadata": {},
   "source": [
    "### ii. Age | Education | Gender | RespHOH"
   ]
  },
  {
   "cell_type": "code",
   "execution_count": 28,
   "metadata": {},
   "outputs": [],
   "source": [
    "# set Male:0, Female:1\n",
    "for col in ['Gender_1', 'Gender_2', 'Gender_3', 'Gender_4']:\n",
    "    orkney.replace({col: {2:0, 1:1}}, inplace=True)\n",
    "    gabon.replace({col: {'Male':0, 'Female':1}}, inplace=True)\n",
    "    tanzania.replace({col: {'Male':0, 'Female':1}}, inplace=True)\n",
    "    madken.replace({col: {2:0, 1:1}}, inplace=True)"
   ]
  },
  {
   "cell_type": "code",
   "execution_count": 29,
   "metadata": {},
   "outputs": [],
   "source": [
    "# set Not head:0, head:1\n",
    "for col in ['RSP_type_1', 'RSP_type_2', 'RSP_type_3', 'RSP_type_4']:\n",
    "    orkney.replace({col: {1:1, 2:0, 3:0, 4:0}}, inplace=True)\n",
    "for col in ['Resp_HH_head_1', 'Resp_HH_head_2', 'Resp_HH_head_3', 'Resp_HH_head_4']:\n",
    "    gabon.replace({col: {'Non':0, 'non':0, 'Oui':1, 'oui':1}}, inplace=True)"
   ]
  },
  {
   "cell_type": "code",
   "execution_count": 30,
   "metadata": {},
   "outputs": [],
   "source": [
    "orkney.rename(columns=dict(zip(['RSP_type_1', 'RSP_type_2', 'RSP_type_3', 'RSP_type_4'], ['RespHOH_1', 'RespHOH_2', 'RespHOH_3', 'RespHOH_4'])) , inplace=True)\n",
    "gabon.rename(columns=dict(zip(['Resp_HH_head_1', 'Resp_HH_head_2', 'Resp_HH_head_3', 'Resp_HH_head_4'], ['RespHOH_1', 'RespHOH_2', 'RespHOH_3', 'RespHOH_4'])) , inplace=True)\n",
    "tanzania.rename(columns=dict(zip(['Head_of_household_1', 'Head_of_household_2', 'Head_of_household_3', 'Head_of_household_4'], ['RespHOH_1', 'RespHOH_2', 'RespHOH_3', 'RespHOH_4'])) , inplace=True)\n",
    "madken.rename(columns=dict(zip(['HH_head_1', 'HH_head_2', 'HH_head_3', 'HH_head_4'], ['RespHOH_1', 'RespHOH_2', 'RespHOH_3', 'RespHOH_4'])) , inplace=True)"
   ]
  },
  {
   "cell_type": "code",
   "execution_count": 31,
   "metadata": {},
   "outputs": [],
   "source": [
    "madken['Age_2'].replace({'Wife':np.NaN}, inplace=True)\n",
    "madken['Age_2'] = madken['Age_2'].astype(float)"
   ]
  },
  {
   "cell_type": "code",
   "execution_count": 32,
   "metadata": {},
   "outputs": [],
   "source": [
    "# Game | Age | Education | Gender | RespHOH\n",
    "orig = ['Game', 'p1_selfAge', 'p2_selfAge', 'p3_selfAge', 'p4_selfAge',\n",
    "        'p1_selfGender', 'p2_selfGender', 'p3_selfGender', 'p4_selfGender',\n",
    "        'p1_selfEd', 'p2_selfEd', 'p3_selfEd', 'p4_selfEd',\n",
    "        'p1_selfLeader', 'p2_selfLeader', 'p3_selfLeader', 'p4_selfLeader']\n",
    "new_names = ['Treatments', 'Age_1', 'Age_2', 'Age_3', 'Age_4',\n",
    "        'Gender_1', 'Gender_2', 'Gender_3', 'Gender_4',\n",
    "        'Education_1', 'Education_2', 'Education_3', 'Education_4',\n",
    "        'RespHOH_1', 'RespHOH_2', 'RespHOH_3', 'RespHOH_4']\n",
    "vietcamb.rename(columns=dict(zip(orig, new_names)), inplace=True)\n",
    "\n",
    "for col in ['Gender_1', 'Gender_2', 'Gender_3', 'Gender_4']:\n",
    "    vietcamb.replace({col: {1:0, 2:1}}, inplace=True)\n",
    "\n",
    "for col in ['RespHOH_1', 'RespHOH_2', 'RespHOH_3', 'RespHOH_4']:\n",
    "    vietcamb.replace({col: {2:1, 1:0}}, inplace=True)"
   ]
  },
  {
   "cell_type": "code",
   "execution_count": 33,
   "metadata": {},
   "outputs": [
    {
     "data": {
      "text/plain": [
       "array([], dtype=float64)"
      ]
     },
     "execution_count": 33,
     "metadata": {},
     "output_type": "execute_result"
    }
   ],
   "source": [
    "vietcamb.loc[vietcamb['Age_1']==1955, 'Age_1'] = 2013-1955\n",
    "vietcamb[vietcamb['Age_1']>100]['Age_1'].unique()"
   ]
  },
  {
   "cell_type": "code",
   "execution_count": 34,
   "metadata": {},
   "outputs": [
    {
     "name": "stdout",
     "output_type": "stream",
     "text": [
      "Gender_1 1.0 0.0\n",
      "Gender_1 1 0\n",
      "Gender_1 1 0\n",
      "Gender_1 1 0\n",
      "Gender_1 1.0 0.0\n",
      "Gender_2 0.0 0.0\n",
      "Gender_2 1 0\n",
      "Gender_2 1 0\n",
      "Gender_2 1 0\n",
      "Gender_2 1.0 0.0\n",
      "Gender_3 1.0 0.0\n",
      "Gender_3 1 0\n",
      "Gender_3 1 0\n",
      "Gender_3 1 0\n",
      "Gender_3 1.0 0.0\n",
      "Gender_4 1.0 0.0\n",
      "Gender_4 1 0\n",
      "Gender_4 1 0\n",
      "Gender_4 1 0\n",
      "Gender_4 1.0 0.0\n",
      "Age_1 69.0 20.0\n",
      "Age_1 74 18\n",
      "Age_1 67 14\n",
      "Age_1 1955 15\n",
      "Age_1 81.0 20.0\n",
      "Age_2 69.0 20.0\n",
      "Age_2 75 18\n",
      "Age_2 67 14\n",
      "Age_2 79.0 17.0\n",
      "Age_2 72.0 18.0\n",
      "Age_3 67.0 16.0\n",
      "Age_3 80 17\n",
      "Age_3 67 14\n",
      "Age_3 76 10\n",
      "Age_3 77.0 20.0\n",
      "Age_4 70.0 23.0\n",
      "Age_4 78 18\n",
      "Age_4 67 14\n",
      "Age_4 75 14\n",
      "Age_4 84.0 18.0\n",
      "Education_1 18.0 11.0\n",
      "Education_1 13 0\n",
      "Education_1 15 0\n",
      "Education_1 13 0\n",
      "Education_1 6.0 1.0\n",
      "Education_2 17.0 9.0\n",
      "Education_2 13 0\n",
      "Education_2 15 0\n",
      "Education_2 13 0\n",
      "Education_2 6.0 1.0\n",
      "Education_3 20.0 10.0\n",
      "Education_3 15 0\n",
      "Education_3 15 0\n",
      "Education_3 12 0\n",
      "Education_3 7.0 1.0\n",
      "Education_4 18.0 8.0\n",
      "Education_4 12 0\n",
      "Education_4 15 0\n",
      "Education_4 15 0\n",
      "Education_4 6.0 1.0\n",
      "subsidy 1.0 0.0\n",
      "subsidy 1 0\n",
      "subsidy 1.0 0.0\n",
      "subsidy 1.0 0.0\n",
      "subsidy 1 0\n"
     ]
    }
   ],
   "source": [
    "# Sanity checks\n",
    "for col in ['Gender_1', 'Gender_2', 'Gender_3', 'Gender_4', 'Age_1', 'Age_2', 'Age_3', 'Age_4',\n",
    "           'Education_1', 'Education_2', 'Education_3', 'Education_4', 'subsidy']:\n",
    "    #print(col, orkney[col].dtype)\n",
    "    #print(col, gabon[col].dtype)\n",
    "    #print(col, tanzania[col].dtype)\n",
    "    #print(col, madken[col].dtype)\n",
    "    print(col, orkney[col].max(), orkney[col].min())\n",
    "    print(col, gabon[col].max(), gabon[col].min())\n",
    "    print(col, tanzania[col].max(), tanzania[col].min())\n",
    "    print(col, madken[col].max(), madken[col].min())\n",
    "    print(col, vietcamb[col].max(), vietcamb[col].min())"
   ]
  },
  {
   "cell_type": "markdown",
   "metadata": {},
   "source": [
    "### iii. Years"
   ]
  },
  {
   "cell_type": "code",
   "execution_count": 35,
   "metadata": {},
   "outputs": [
    {
     "data": {
      "text/plain": [
       "<matplotlib.axes._subplots.AxesSubplot at 0x2083a35f6c8>"
      ]
     },
     "execution_count": 35,
     "metadata": {},
     "output_type": "execute_result"
    },
    {
     "data": {
      "image/png": "[encoded data removed]",
      "text/plain": [
       "<Figure size 432x288 with 1 Axes>"
      ]
     },
     "metadata": {
      "needs_background": "light"
     },
     "output_type": "display_data"
    }
   ],
   "source": [
    "(gabon['Years_Farm_1'] - gabon['Years_Res_1']).hist()\n",
    "(gabon['Years_Farm_2'] - gabon['Years_Res_2']).hist()\n",
    "(gabon['Years_Farm_3'] - gabon['Years_Res_3']).hist()\n",
    "(gabon['Years_Farm_4'] - gabon['Years_Res_4']).hist()"
   ]
  },
  {
   "cell_type": "markdown",
   "metadata": {},
   "source": [
    "### iv. Primary Income | Secondary Income"
   ]
  },
  {
   "cell_type": "markdown",
   "metadata": {},
   "source": [
    "Derived attributes: primary_farming_x, secondary_farming_x, primary_priv_tour_x, secondary_priv_tour_x\n",
    "\n",
    "Options: Farming: 1, 1, 2, 1 | Tourism/Private: 3/5, 4, 3/tourism, 4"
   ]
  },
  {
   "cell_type": "code",
   "execution_count": 36,
   "metadata": {},
   "outputs": [],
   "source": [
    "for col_a, col_b in ['primary_farming_', 'Primary_income_'], ['secondary_farming_', 'Secondary_income_']:\n",
    "    for i in range(1,5):\n",
    "        orkney[col_a+str(i)] = np.where(orkney[col_b+str(i)]==1, 1, 0)\n",
    "\n",
    "for col_a, col_b in ['primary_farming_', 'HH_OCC1_'], ['secondary_farming_', 'HH_OCC2_']:\n",
    "    for i in range(1,5):\n",
    "        gabon[col_a+str(i)] = np.where(gabon[col_b+str(i)]==1, 1, 0)\n",
    "\n",
    "for col_a, col_b in ['primary_farming_', 'Primary_income_'], ['secondary_farming_', 'Secondary_income_']:\n",
    "    for i in range(1,5):\n",
    "        tanzania[col_a+str(i)] = np.where(tanzania[col_b+str(i)]==2, 1, 0)\n",
    "\n",
    "for col_a, col_b in ['primary_farming_', 'Primary_income_'], ['secondary_farming_', 'Secondary_income_']:\n",
    "    for i in range(1,5):\n",
    "        madken[col_a+str(i)] = np.where(madken[col_b+str(i)]==1, 1, 0)"
   ]
  },
  {
   "cell_type": "code",
   "execution_count": 37,
   "metadata": {},
   "outputs": [],
   "source": [
    "for col_a, col_b in ['primary_priv_tour_', 'Primary_income_'], ['secondary_priv_tour_', 'Secondary_income_']:\n",
    "    for i in range(1,5):\n",
    "        orkney[col_a+str(i)] = np.where((orkney[col_b+str(i)]==3)|(orkney[col_b+str(i)]==5), 1, 0)\n",
    "\n",
    "for col_a, col_b in ['primary_priv_tour_', 'HH_OCC1_'], ['secondary_priv_tour_', 'HH_OCC2_']:\n",
    "    for i in range(1,5):\n",
    "        gabon[col_a+str(i)] = np.where(gabon[col_b+str(i)]==4, 1, 0)\n",
    "\n",
    "for col_a, col_b in ['primary_priv_tour_', 'Primary_income_'], ['secondary_priv_tour_', 'Secondary_income_']:\n",
    "    for i in range(1,5):\n",
    "        tanzania[col_a+str(i)] = np.where(tanzania[col_b+str(i)]==3, 1, 0)\n",
    "\n",
    "for i in range(1,5):\n",
    "    tanzania['secondary_priv_tour_'+str(i)] = np.where(tanzania['Tourism_income_'+str(i)]==1, 1, tanzania['secondary_priv_tour_'+str(i)])\n",
    "        \n",
    "for col_a, col_b in ['primary_priv_tour_', 'Primary_income_'], ['secondary_priv_tour_', 'Secondary_income_']:\n",
    "    for i in range(1,5):\n",
    "        madken[col_a+str(i)] = np.where(madken[col_b+str(i)]==4, 1, 0)"
   ]
  },
  {
   "cell_type": "markdown",
   "metadata": {},
   "source": [
    "### v. Farm size | Livestock | Risk Punish | Trust govt/nationalpark/ngo | Trust community 3 (borrow/ lend)"
   ]
  },
  {
   "cell_type": "code",
   "execution_count": 38,
   "metadata": {},
   "outputs": [],
   "source": [
    "# Check with Prof."
   ]
  },
  {
   "cell_type": "code",
   "execution_count": 39,
   "metadata": {},
   "outputs": [],
   "source": [
    "# Rename for creating Trust_govt and Trust_natpark\n",
    "\n",
    "new_names = ['Trust_govt_1', 'Trust_govt_2', 'Trust_govt_3', 'Trust_govt_4',\n",
    "             'Trust_natpark_1', 'Trust_natpark_2', 'Trust_natpark_3', 'Trust_natpark_4']\n",
    "\n",
    "orig = ['Trust_SGRPID_1', 'Trust_SGRPID_2', 'Trust_SGRPID_3', 'Trust_SGRPID_4',\n",
    "        'Trust_RSPB_1', 'Trust_RSPB_2', 'Trust_RSPB_3', 'Trust_RSPB_4']\n",
    "orkney.rename(columns=dict(zip(orig, new_names)), inplace=True)\n",
    "\n",
    "orig = ['Min_Agriculture_1', 'Min_Agriculture_2', 'Min_Agriculture_3', 'Min_Agriculture_4',\n",
    "        'ANPN_1', 'ANPN_2', 'ANPN_3', 'ANPN_4']\n",
    "gabon.rename(columns=dict(zip(orig, new_names)), inplace=True)\n",
    "\n",
    "orig = ['Trust_MoA_1', 'Trust_MoA_2', 'Trust_MoA_3', 'Trust_MoA_4',\n",
    "        'Trust_MV_KFS_1', 'Trust_MV_KFS_2', 'Trust_MV_KFS_3', 'Trust_MV_KFS_4',]\n",
    "madken.rename(columns=dict(zip(orig, new_names)), inplace=True)\n",
    "\n",
    "orig = ['Trust_Tanzanian_government_1', 'Trust_Tanzanian_government_2', 'Trust_Tanzanian_government_3', 'Trust_Tanzanian_government_4',\n",
    "        'Trust_TANAPA_1', 'Trust_TANAPA_2', 'Trust_TANAPA_3', 'Trust_TANAPA_4']\n",
    "tanzania.rename(columns=dict(zip(orig, new_names)), inplace=True)"
   ]
  },
  {
   "cell_type": "markdown",
   "metadata": {},
   "source": [
    "### vi. NegWellb | PosWellb | FutGen | Govt. Responsibility | Coordination | Risk Social | Trust community 1 | Trust Community 2 | Game depend on others | Game effect on others | Game next generation | Trust govt | Trust nationalpark"
   ]
  },
  {
   "cell_type": "code",
   "execution_count": 40,
   "metadata": {},
   "outputs": [],
   "source": [
    "new_names = ['Neg_wellb_1', 'Neg_wellb_2', 'Neg_wellb_3', 'Neg_wellb_4', 'Pos_wellb_1', 'Pos_wellb_2', 'Pos_wellb_3', 'Pos_wellb_4',\n",
    "             'Fut_Gen_1', 'Fut_Gen_2', 'Fut_Gen_3', 'Fut_Gen_4', 'Gov_resp_1', 'Gov_resp_2', 'Gov_resp_3', 'Gov_resp_4',\n",
    "             'Com_coord_1', 'Com_coord_2', 'Com_coord_3', 'Com_coord_4', 'Risk_social_1', 'Risk_social_2', 'Risk_social_3', 'Risk_social_4',\n",
    "             'Com_trust1_1', 'Com_trust1_2', 'Com_trust1_3', 'Com_trust1_4', 'Com_trust2_1', 'Com_trust2_2', 'Com_trust2_3', 'Com_trust2_4',\n",
    "             'Depend_on_others_1', 'Depend_on_others_2', 'Depend_on_others_3', 'Depend_on_others_4',\n",
    "             'Effects_on_others_1', 'Effects_on_others_2', 'Effects_on_others_3', 'Effects_on_others_4',\n",
    "             'Effects_on_next_gen_1', 'Effects_on_next_gen_2', 'Effects_on_next_gen_3', 'Effects_on_next_gen_4']\n",
    "\n",
    "orig = ['Neg_Wellb_1', 'Neg_Wellb_2', 'Neg_Wellb_3', 'Neg_Wellb_4', 'Pos_Wellb_1', 'Pos_Wellb_2', 'Pos_Wellb_3', 'Pos_Wellb_4',\n",
    "        'Fut_Gen_1', 'Fut_Gen_2', 'Fut_Gen_3', 'Fut_Gen_4', 'Government_Responsibility_1', 'Government_Responsibility_2', 'Government_Responsibility_3', 'Government_Responsibility_4',\n",
    "        'Coordination_scaring_1', 'Coordination_scaring_2', 'Coordination_scaring_3', 'Coordination_scaring_4', 'Social_norms_1', 'Social_norms_2', 'Social_norms_3', 'Social_norms_4',\n",
    "        'Trust_community1_1', 'Trust_community1_2', 'Trust_community1_3', 'Trust_community1_4', 'Trust_community2_1', 'Trust_community2_2', 'Trust_community2_3', 'Trust_community2_4',\n",
    "        'Game_depend_on_others_1', 'Game_depend_on_others_2', 'Game_depend_on_others_3', 'Game_depend_on_others_4',\n",
    "        'Game_effect_on_others_1', 'Game_effect_on_others_2', 'Game_effect_on_others_3', 'Game_effect_on_others_4',\n",
    "        'Game_next_gen_1', 'Game_next_gen_2', 'Game_next_gen_3', 'Game_next_gen_4']\n",
    "orkney.rename(columns=dict(zip(orig, new_names)), inplace=True)\n",
    "\n",
    "orig = ['Neg_Wellb_1', 'Neg_Wellb_2', 'Neg_Wellb_3', 'Neg_Wellb_4', 'Pos_Wellb_1', 'Pos_Wellb_2', 'Pos_Wellb_3', 'Pos_Wellb_4',\n",
    "        'Fut_Gen_1', 'Fut_Gen_2', 'Fut_Gen_3', 'Fut_Gen_4', 'ANPN_resp_1', 'ANPN_resp_2', 'ANPN_resp_3', 'ANPN_resp_4',\n",
    "        'Com_Coop_1', 'Com_Coop_2', 'Com_Coop_3', 'Com_Coop_4', 'Social_norms_1', 'Social_norms_2', 'Social_norms_3', 'Social_norms_4',\n",
    "        'Community_Trust1_1', 'Community_Trust1_2', 'Community_Trust1_3', 'Community_Trust1_4', 'Community_Trust2_1', 'Community_Trust2_2', 'Community_Trust2_3', 'Community_Trust2_4',\n",
    "        'Games_Depend_Others_1', 'Games_Depend_Others_2', 'Games_Depend_Others_3', 'Games_Depend_Others_4',\n",
    "        'Games_Effects_Others_1', 'Games_Effects_Others_2', 'Games_Effects_Others_3', 'Games_Effects_Others_4',\n",
    "        'Games_Fut_gen_1', 'Games_Fut_gen_2', 'Games_Fut_gen_3', 'Games_Fut_gen_4']\n",
    "gabon.rename(columns=dict(zip(orig, new_names)), inplace=True)\n",
    "\n",
    "orig = ['Lions_harm_1', 'Lions_harm_2', 'Lions_harm_3', 'Lions_harm_4', 'Lions_benefit_1', 'Lions_benefit_2', 'Lions_benefit_3', 'Lions_benefit_4',\n",
    "        'Conservation_futuregen_1', 'Conservation_futuregen_2', 'Conservation_futuregen_3', 'Conservation_futuregen_4', 'Government_compensate_1', 'Government_compensate_2', 'Government_compensate_3', 'Government_compensate_4',\n",
    "        'Coordinate_scaring_1', 'Coordinate_scaring_2', 'Coordinate_scaring_3', 'Coordinate_scaring_4', 'Prevent_social_1', 'Prevent_social_2', 'Prevent_social_3', 'Prevent_social_4',\n",
    "        'Community_help_1', 'Community_help_2', 'Community_help_3', 'Community_help_4', 'Community_honest_1', 'Community_honest_2', 'Community_honest_3', 'Community_honest_4',\n",
    "        'Depend_on_others_1', 'Depend_on_others_2', 'Depend_on_others_3', 'Depend_on_others_4',\n",
    "        'Effect_on_others_1', 'Effect_on_others_2', 'Effect_on_others_3', 'Effect_on_others_4',\n",
    "        'Effect_on_future_1', 'Effect_on_future_2', 'Effect_on_future_3', 'Effect_on_future_4']\n",
    "tanzania.rename(columns=dict(zip(orig, new_names)), inplace=True)\n",
    "\n",
    "orig = ['Neg_wellb_1', 'Neg_wellb_2', 'Neg_wellb_3', 'Neg_wellb_4', 'Pos_wellb_1', 'Pos_wellb_2', 'Pos_wellb_3', 'Pos_wellb_4',\n",
    "        'Fut_Gen_1', 'Fut_Gen_2', 'Fut_Gen_3', 'Fut_Gen_4', 'Gov_resp_1', 'Gov_resp_2', 'Gov_resp_3', 'Gov_resp_4',\n",
    "        'Com_coord_1', 'Com_coord_2', 'Com_coord_3', 'Com_coord_4', 'Social_norms_1', 'Social_norms_2', 'Social_norms_3', 'Social_norms_4',\n",
    "        'Com_trust1_1', 'Com_trust1_2', 'Com_trust1_3', 'Com_trust1_4', 'Com_trust2_1', 'Com_trust2_2', 'Com_trust2_3', 'Com_trust2_4',\n",
    "        'Depend_on_others_1', 'Depend_on_others_2', 'Depend_on_others_3', 'Depend_on_others_4',\n",
    "        'Effects_on_others_1', 'Effects_on_others_2', 'Effects_on_others_3', 'Effects_on_others_4',\n",
    "        'Effects_on_next_gen_1', 'Effects_on_next_gen_2', 'Effects_on_next_gen_3', 'Effects_on_next_gen_4']\n",
    "madken.rename(columns=dict(zip(orig, new_names)), inplace=True)"
   ]
  },
  {
   "cell_type": "code",
   "execution_count": 41,
   "metadata": {},
   "outputs": [],
   "source": [
    "col_list = ['Neg_wellb_1', 'Neg_wellb_2', 'Neg_wellb_3', 'Neg_wellb_4', 'Pos_wellb_1', 'Pos_wellb_2', 'Pos_wellb_3', 'Pos_wellb_4',\n",
    "             'Fut_Gen_1', 'Fut_Gen_2', 'Fut_Gen_3', 'Fut_Gen_4', 'Gov_resp_1', 'Gov_resp_2', 'Gov_resp_3', 'Gov_resp_4',\n",
    "             'Com_coord_1', 'Com_coord_2', 'Com_coord_3', 'Com_coord_4', 'Risk_social_1', 'Risk_social_2', 'Risk_social_3', 'Risk_social_4',\n",
    "             'Com_trust1_1', 'Com_trust1_2', 'Com_trust1_3', 'Com_trust1_4', 'Com_trust2_1', 'Com_trust2_2', 'Com_trust2_3', 'Com_trust2_4',\n",
    "             'Trust_govt_1', 'Trust_govt_2', 'Trust_govt_3', 'Trust_govt_4',\n",
    "             'Trust_natpark_1', 'Trust_natpark_2', 'Trust_natpark_3', 'Trust_natpark_4']\n",
    "\n",
    "col_list_exceptions = ['Depend_on_others_1', 'Depend_on_others_2', 'Depend_on_others_3', 'Depend_on_others_4',\n",
    "                       'Effects_on_others_1', 'Effects_on_others_2', 'Effects_on_others_3', 'Effects_on_others_4',\n",
    "                       'Effects_on_next_gen_1', 'Effects_on_next_gen_2', 'Effects_on_next_gen_3', 'Effects_on_next_gen_4']\n",
    "\n",
    "for col in col_list:\n",
    "    #orkney.drop(orkney[(orkney[col]==0)].index, inplace=True)\n",
    "    orkney.replace({col: {-2:0, -1:0.25, 0:0.5, 1:0.75, 2:1}}, inplace=True)\n",
    "    #gabon.drop(gabon[(gabon[col]==0)].index, inplace=True)\n",
    "    gabon.replace({col: {-2:0, -1:0.25, 0:0.5, 1:0.75, 2:1}}, inplace=True)\n",
    "    #tanzania.drop(tanzania[(tanzania[col]==0)].index, inplace=True)\n",
    "    tanzania.replace({col: {-2:0, -1:0.25, 0:0.5, 1:0.75, 2:1}}, inplace=True)    \n",
    "    madken.drop(madken[(madken[col]==-98)].index, inplace=True)\n",
    "    madken.drop(madken[(madken[col]==-99)].index, inplace=True)\n",
    "    madken.replace({col: {1:0, 2:0.33, 3:0.66, 4:1}}, inplace=True)\n",
    "\n",
    "for col in col_list_exceptions:\n",
    "    #orkney.drop(orkney[(orkney[col]==0)].index, inplace=True)\n",
    "    orkney.replace({col: {1:0, 2:0.33, 3:0.66, 4:1}}, inplace=True)\n",
    "    #gabon.drop(gabon[(gabon[col]==0)].index, inplace=True)\n",
    "    gabon.replace({col: {-2:0, -1:0.25, 0:0.5, 1:0.75, 2:1}}, inplace=True)\n",
    "    #tanzania.drop(tanzania[(tanzania[col]==0)].index, inplace=True)\n",
    "    tanzania.replace({col: {-2:0, -1:0.25, 0:0.5, 1:0.75, 2:1}}, inplace=True)    \n",
    "    madken.drop(madken[(madken[col]==-98)].index, inplace=True)\n",
    "    madken.drop(madken[(madken[col]==-99)].index, inplace=True)\n",
    "    madken.replace({col: {1:0, 2:0.33, 3:0.66, 4:1}}, inplace=True)"
   ]
  },
  {
   "cell_type": "code",
   "execution_count": 42,
   "metadata": {},
   "outputs": [
    {
     "name": "stdout",
     "output_type": "stream",
     "text": [
      "Neg_wellb_1 0.25 1.0\n",
      "Neg_wellb_1 0.0 1.0\n",
      "Neg_wellb_1 0.0 1.0\n",
      "Neg_wellb_1 0.0 1.0\n",
      "Neg_wellb_2 0.0 1.0\n",
      "Neg_wellb_2 0.0 1.0\n",
      "Neg_wellb_2 0.0 1.0\n",
      "Neg_wellb_2 0.0 1.0\n",
      "Neg_wellb_3 0.0 1.0\n",
      "Neg_wellb_3 0.0 1.0\n",
      "Neg_wellb_3 0.0 1.0\n",
      "Neg_wellb_3 0.0 1.0\n",
      "Neg_wellb_4 0.0 1.0\n",
      "Neg_wellb_4 0.0 1.0\n",
      "Neg_wellb_4 0.0 1.0\n",
      "Neg_wellb_4 0.0 1.0\n",
      "Pos_wellb_1 0.0 0.25\n",
      "Pos_wellb_1 0.0 1.0\n",
      "Pos_wellb_1 0.0 1.0\n",
      "Pos_wellb_1 0.66 1.0\n",
      "Pos_wellb_2 0.0 0.25\n",
      "Pos_wellb_2 0.0 1.0\n",
      "Pos_wellb_2 0.0 1.0\n",
      "Pos_wellb_2 0.33 1.0\n",
      "Pos_wellb_3 0.0 0.25\n",
      "Pos_wellb_3 0.0 1.0\n",
      "Pos_wellb_3 0.0 1.0\n",
      "Pos_wellb_3 0.33 1.0\n",
      "Pos_wellb_4 0.0 1.0\n",
      "Pos_wellb_4 0.0 1.0\n",
      "Pos_wellb_4 0.0 1.0\n",
      "Pos_wellb_4 0.33 1.0\n",
      "Fut_Gen_1 0.0 1.0\n",
      "Fut_Gen_1 0.0 1.0\n",
      "Fut_Gen_1 0.0 1.0\n",
      "Fut_Gen_1 0.66 1.0\n",
      "Fut_Gen_2 0.0 1.0\n",
      "Fut_Gen_2 0.0 1.0\n",
      "Fut_Gen_2 0.0 1.0\n",
      "Fut_Gen_2 0.66 1.0\n",
      "Fut_Gen_3 0.0 0.75\n",
      "Fut_Gen_3 0.0 1.0\n",
      "Fut_Gen_3 0.0 1.0\n",
      "Fut_Gen_3 0.66 1.0\n",
      "Fut_Gen_4 0.0 1.0\n",
      "Fut_Gen_4 0.0 1.0\n",
      "Fut_Gen_4 0.0 1.0\n",
      "Fut_Gen_4 0.66 1.0\n",
      "Gov_resp_1 0.0 1.0\n",
      "Gov_resp_1 0.0 1.0\n",
      "Gov_resp_1 0.0 1.0\n",
      "Gov_resp_1 0.0 1.0\n",
      "Gov_resp_2 0.0 1.0\n",
      "Gov_resp_2 0.0 1.0\n",
      "Gov_resp_2 0.0 1.0\n",
      "Gov_resp_2 0.0 1.0\n",
      "Gov_resp_3 0.25 1.0\n",
      "Gov_resp_3 0.0 1.0\n",
      "Gov_resp_3 0.0 1.0\n",
      "Gov_resp_3 0.0 1.0\n",
      "Gov_resp_4 0.0 1.0\n",
      "Gov_resp_4 0.0 1.0\n",
      "Gov_resp_4 0.0 1.0\n",
      "Gov_resp_4 0.0 1.0\n",
      "Com_coord_1 0.0 1.0\n",
      "Com_coord_1 0.0 1.0\n",
      "Com_coord_1 0.0 1.0\n",
      "Com_coord_1 0.0 1.0\n",
      "Com_coord_2 0.0 1.0\n",
      "Com_coord_2 0.0 1.0\n",
      "Com_coord_2 0.0 1.0\n",
      "Com_coord_2 0.0 1.0\n",
      "Com_coord_3 0.5 1.0\n",
      "Com_coord_3 0.0 1.0\n",
      "Com_coord_3 0.0 1.0\n",
      "Com_coord_3 0.33 1.0\n",
      "Com_coord_4 0.0 1.0\n",
      "Com_coord_4 0.0 1.0\n",
      "Com_coord_4 0.0 1.0\n",
      "Com_coord_4 0.0 1.0\n",
      "Risk_social_1 0.0 1.0\n",
      "Risk_social_1 0.0 1.0\n",
      "Risk_social_1 0.0 1.0\n",
      "Risk_social_1 0.33 1.0\n",
      "Risk_social_2 0.0 1.0\n",
      "Risk_social_2 0.0 1.0\n",
      "Risk_social_2 0.0 1.0\n",
      "Risk_social_2 0.33 1.0\n",
      "Risk_social_3 0.0 1.0\n",
      "Risk_social_3 0.0 1.0\n",
      "Risk_social_3 0.0 1.0\n",
      "Risk_social_3 0.33 1.0\n",
      "Risk_social_4 0.0 1.0\n",
      "Risk_social_4 0.0 1.0\n",
      "Risk_social_4 0.0 1.0\n",
      "Risk_social_4 0.33 1.0\n",
      "Com_trust1_1 0.25 1.0\n",
      "Com_trust1_1 0.0 1.0\n",
      "Com_trust1_1 0.0 1.0\n",
      "Com_trust1_1 0.0 1.0\n",
      "Com_trust1_2 0.75 1.0\n",
      "Com_trust1_2 0.0 1.0\n",
      "Com_trust1_2 0.0 1.0\n",
      "Com_trust1_2 0.33 1.0\n",
      "Com_trust1_3 0.25 1.0\n",
      "Com_trust1_3 0.0 1.0\n",
      "Com_trust1_3 0.0 1.0\n",
      "Com_trust1_3 0.0 1.0\n",
      "Com_trust1_4 0.0 1.0\n",
      "Com_trust1_4 0.0 1.0\n",
      "Com_trust1_4 0.0 1.0\n",
      "Com_trust1_4 0.33 1.0\n",
      "Com_trust2_1 0.25 1.0\n",
      "Com_trust2_1 0.0 1.0\n",
      "Com_trust2_1 0.0 1.0\n",
      "Com_trust2_1 0.33 1.0\n",
      "Com_trust2_2 0.25 1.0\n",
      "Com_trust2_2 0.0 1.0\n",
      "Com_trust2_2 0.0 1.0\n",
      "Com_trust2_2 0.33 1.0\n",
      "Com_trust2_3 0.25 1.0\n",
      "Com_trust2_3 0.0 1.0\n",
      "Com_trust2_3 0.0 1.0\n",
      "Com_trust2_3 0.0 1.0\n",
      "Com_trust2_4 0.25 1.0\n",
      "Com_trust2_4 0.0 1.0\n",
      "Com_trust2_4 0.0 1.0\n",
      "Com_trust2_4 0.33 1.0\n",
      "Trust_govt_1 0.0 1.0\n",
      "Trust_govt_1 0.0 1.0\n",
      "Trust_govt_1 0.0 1.0\n",
      "Trust_govt_1 0.0 1.0\n",
      "Trust_govt_2 0.0 0.75\n",
      "Trust_govt_2 0.0 1.0\n",
      "Trust_govt_2 0.0 1.0\n",
      "Trust_govt_2 0.0 1.0\n",
      "Trust_govt_3 0.0 1.0\n",
      "Trust_govt_3 0.0 1.0\n",
      "Trust_govt_3 0.0 1.0\n",
      "Trust_govt_3 0.0 1.0\n",
      "Trust_govt_4 0.0 0.75\n",
      "Trust_govt_4 0.0 1.0\n",
      "Trust_govt_4 0.0 1.0\n",
      "Trust_govt_4 0.0 1.0\n",
      "Trust_natpark_1 0.0 0.75\n",
      "Trust_natpark_1 0.0 1.0\n",
      "Trust_natpark_1 0.0 1.0\n",
      "Trust_natpark_1 0.0 1.0\n",
      "Trust_natpark_2 0.0 1.0\n",
      "Trust_natpark_2 0.0 1.0\n",
      "Trust_natpark_2 0.0 1.0\n",
      "Trust_natpark_2 0.0 1.0\n",
      "Trust_natpark_3 0.0 0.75\n",
      "Trust_natpark_3 0.0 1.0\n",
      "Trust_natpark_3 0.0 1.0\n",
      "Trust_natpark_3 0.0 1.0\n",
      "Trust_natpark_4 0.0 0.75\n",
      "Trust_natpark_4 0.0 1.0\n",
      "Trust_natpark_4 0.0 1.0\n",
      "Trust_natpark_4 0.0 1.0\n",
      "Depend_on_others_1 0.0 1.0\n",
      "Depend_on_others_1 0.0 1.0\n",
      "Depend_on_others_1 0.0 1.0\n",
      "Depend_on_others_1 0.0 1.0\n",
      "Depend_on_others_2 0.0 0.66\n",
      "Depend_on_others_2 0.0 1.0\n",
      "Depend_on_others_2 0.0 1.0\n",
      "Depend_on_others_2 0.0 1.0\n",
      "Depend_on_others_3 0.0 1.0\n",
      "Depend_on_others_3 0.0 1.0\n",
      "Depend_on_others_3 0.0 1.0\n",
      "Depend_on_others_3 0.0 1.0\n",
      "Depend_on_others_4 0.0 1.0\n",
      "Depend_on_others_4 0.0 1.0\n",
      "Depend_on_others_4 0.0 1.0\n",
      "Depend_on_others_4 0.0 1.0\n",
      "Effects_on_others_1 0.0 1.0\n",
      "Effects_on_others_1 0.0 1.0\n",
      "Effects_on_others_1 0.0 1.0\n",
      "Effects_on_others_1 0.0 1.0\n",
      "Effects_on_others_2 0.0 0.66\n",
      "Effects_on_others_2 0.0 1.0\n",
      "Effects_on_others_2 0.0 1.0\n",
      "Effects_on_others_2 0.0 1.0\n",
      "Effects_on_others_3 0.0 1.0\n",
      "Effects_on_others_3 0.0 1.0\n",
      "Effects_on_others_3 0.0 1.0\n",
      "Effects_on_others_3 0.0 1.0\n",
      "Effects_on_others_4 0.0 1.0\n",
      "Effects_on_others_4 0.0 1.0\n",
      "Effects_on_others_4 0.0 1.0\n",
      "Effects_on_others_4 0.0 1.0\n",
      "Effects_on_next_gen_1 0.0 1.0\n",
      "Effects_on_next_gen_1 0.0 1.0\n",
      "Effects_on_next_gen_1 0.0 1.0\n",
      "Effects_on_next_gen_1 0.66 1.0\n",
      "Effects_on_next_gen_2 0.0 1.0\n",
      "Effects_on_next_gen_2 0.0 1.0\n",
      "Effects_on_next_gen_2 0.0 1.0\n",
      "Effects_on_next_gen_2 0.0 1.0\n",
      "Effects_on_next_gen_3 0.0 1.0\n",
      "Effects_on_next_gen_3 0.0 1.0\n",
      "Effects_on_next_gen_3 0.0 1.0\n",
      "Effects_on_next_gen_3 0.66 1.0\n",
      "Effects_on_next_gen_4 0.0 1.0\n",
      "Effects_on_next_gen_4 0.0 1.0\n",
      "Effects_on_next_gen_4 0.0 1.0\n",
      "Effects_on_next_gen_4 0.66 1.0\n"
     ]
    }
   ],
   "source": [
    "for col in col_list+col_list_exceptions:\n",
    "    print(col, orkney[col].min(), orkney[col].max())\n",
    "    print(col, gabon[col].min(), gabon[col].max())\n",
    "    print(col, tanzania[col].min(), tanzania[col].max())\n",
    "    print(col, madken[col].min(), madken[col].max())"
   ]
  },
  {
   "cell_type": "code",
   "execution_count": 43,
   "metadata": {},
   "outputs": [
    {
     "name": "stdout",
     "output_type": "stream",
     "text": [
      "485\n",
      "1492\n",
      "1129\n",
      "1003\n"
     ]
    }
   ],
   "source": [
    "print(len(orkney))\n",
    "print(len(gabon))\n",
    "print(len(tanzania))\n",
    "print(len(madken))"
   ]
  },
  {
   "cell_type": "markdown",
   "metadata": {},
   "source": [
    "### vii. Relationship rating | Goal in games | Country"
   ]
  },
  {
   "cell_type": "code",
   "execution_count": 44,
   "metadata": {},
   "outputs": [],
   "source": [
    "# get one-hot encoding of column, join the encoded frame with original dataframe\n",
    "for i, col in enumerate(['Goal_games_1', 'Goal_games_2', 'Goal_games_3', 'Goal_games_4']):\n",
    "    one_hot = pd.get_dummies(orkney[col].astype(int), prefix='Game_goal_'+str(i+1))\n",
    "    orkney = orkney.join(one_hot)\n",
    "\n",
    "for i, col in enumerate(['Games_Obj_1', 'Games_Obj_2', 'Games_Obj_3', 'Games_Obj_4']):\n",
    "    one_hot = pd.get_dummies(gabon[col].astype(int), prefix='Game_goal_'+str(i+1))\n",
    "    gabon = gabon.join(one_hot)\n",
    "\n",
    "for i, col in enumerate(['Game_obj_1', 'Game_obj_2', 'Game_obj_3', 'Game_obj_4']):\n",
    "    one_hot = pd.get_dummies(tanzania[col].astype(int), prefix='Game_goal_'+str(i+1))\n",
    "    tanzania = tanzania.join(one_hot)\n",
    "\n",
    "for i, col in enumerate(['Goal_1', 'Goal_2', 'Goal_3', 'Goal_4']):\n",
    "    one_hot = pd.get_dummies(madken[col].astype(int), prefix='Game_goal_'+str(i+1))\n",
    "    madken = madken.join(one_hot)\n",
    "    \n",
    "# drop the encodings for 'other' in goal\n",
    "for i in range(1,5):\n",
    "    col = 'Game_goal_'+str(i)+'_5'\n",
    "    if col in orkney.columns:\n",
    "        orkney.drop(col, axis=1, inplace=True)\n",
    "    if col in gabon.columns:\n",
    "        gabon.drop(col, axis=1, inplace=True)\n",
    "    if col in tanzania.columns:\n",
    "        tanzania.drop(col, axis=1, inplace=True)\n",
    "    if col in madken.columns:\n",
    "        madken.drop(col, axis=1, inplace=True)\n",
    "\n",
    "# add column for missing encoding:\n",
    "for prefix in ['Game_goal_1_', 'Game_goal_2_', 'Game_goal_3_', 'Game_goal_4_']:\n",
    "    for suffix in range(1,5):\n",
    "        if prefix+str(suffix) not in orkney.columns:\n",
    "            orkney[prefix+str(suffix)] = 0\n",
    "        if prefix+str(suffix) not in gabon.columns:\n",
    "            gabon[prefix+str(suffix)] = 0\n",
    "        if prefix+str(suffix) not in tanzania.columns:\n",
    "            tanzania[prefix+str(suffix)] = 0\n",
    "        if prefix+str(suffix) not in madken.columns:\n",
    "            madken[prefix+str(suffix)] = 0"
   ]
  },
  {
   "cell_type": "code",
   "execution_count": 45,
   "metadata": {},
   "outputs": [],
   "source": [
    "new_names = ['Rel1_1', 'Rel1_2', 'Rel1_3', 'Rel1_4', 'Rel2_1', 'Rel2_2', 'Rel2_3', 'Rel2_4', 'Rel3_1', 'Rel3_2', 'Rel3_3', 'Rel3_4']\n",
    "orig = ['Familiarity_1_1', 'Familiarity_1_2', 'Familiarity_1_3', 'Familiarity_1_4', 'Familiarity_2_1', 'Familiarity_2_2', 'Familiarity_2_3', 'Familiarity_2_4', 'Familiarity_3_1', 'Familiarity_3_2', 'Familiarity_3_3', 'Familiarity_3_4']\n",
    "tanzania.rename(columns=dict(zip(orig, new_names)), inplace=True)\n",
    "orig = ['familiarity.familiarity_001_1', 'familiarity.familiarity_001_2', 'familiarity.familiarity_001_3', 'familiarity.familiarity_001_4', 'familiarity.familiarity_002_1', 'familiarity.familiarity_002_2', 'familiarity.familiarity_002_3', 'familiarity.familiarity_002_4', 'familiarity.familiarity_003_1', 'familiarity.familiarity_003_2', 'familiarity.familiarity_003_3', 'familiarity.familiarity_003_4']\n",
    "madken.rename(columns=dict(zip(orig, new_names)), inplace=True)"
   ]
  },
  {
   "cell_type": "code",
   "execution_count": 46,
   "metadata": {},
   "outputs": [],
   "source": [
    "for col in new_names:\n",
    "    orkney.replace({col: {1:0, 2:0.33, 3:0.66, 4:1}}, inplace=True)\n",
    "    gabon.replace({col: {1:0, 2:0.33, 3:0.66, 4:1}}, inplace=True)\n",
    "    tanzania.replace({col: {1:0, 2:0.33, 3:0.66, 4:1}}, inplace=True)\n",
    "    madken.replace({col: {1:0, 2:0.33, 3:0.66, 4:1}}, inplace=True)"
   ]
  },
  {
   "cell_type": "code",
   "execution_count": 47,
   "metadata": {},
   "outputs": [
    {
     "name": "stdout",
     "output_type": "stream",
     "text": [
      "\n"
     ]
    },
    {
     "data": {
      "image/png": "[encoded data removed]",
      "text/plain": [
       "<Figure size 576x360 with 12 Axes>"
      ]
     },
     "metadata": {
      "needs_background": "light"
     },
     "output_type": "display_data"
    }
   ],
   "source": [
    "vietcamb[['Rel1_1', 'Rel1_2', 'Rel1_3', 'Rel1_4', 'Rel2_1', 'Rel2_2', 'Rel2_3',\n",
    "       'Rel2_4', 'Rel3_1', 'Rel3_2', 'Rel3_3', 'Rel3_4']].hist(figsize=(8,5))\n",
    "print()"
   ]
  },
  {
   "cell_type": "code",
   "execution_count": 48,
   "metadata": {},
   "outputs": [],
   "source": [
    "for col in ['Rel1_1', 'Rel1_2', 'Rel1_3', 'Rel1_4', 'Rel2_1', 'Rel2_2', 'Rel2_3', 'Rel2_4', 'Rel3_1', 'Rel3_2', 'Rel3_3', 'Rel3_4']:\n",
    "    vietcamb.replace({col: {1:0, 2:0.25, 3:0.5, 4:0.75, 5:1}}, inplace=True)"
   ]
  },
  {
   "cell_type": "markdown",
   "metadata": {},
   "source": [
    "# Combine Datasets"
   ]
  },
  {
   "cell_type": "code",
   "execution_count": 49,
   "metadata": {},
   "outputs": [
    {
     "name": "stdout",
     "output_type": "stream",
     "text": [
      "117\n"
     ]
    },
    {
     "data": {
      "text/plain": [
       "{'Age_1',\n",
       " 'Age_2',\n",
       " 'Age_3',\n",
       " 'Age_4',\n",
       " 'Com_coord_1',\n",
       " 'Com_coord_2',\n",
       " 'Com_coord_3',\n",
       " 'Com_coord_4',\n",
       " 'Com_trust1_1',\n",
       " 'Com_trust1_2',\n",
       " 'Com_trust1_3',\n",
       " 'Com_trust1_4',\n",
       " 'Com_trust2_1',\n",
       " 'Com_trust2_2',\n",
       " 'Com_trust2_3',\n",
       " 'Com_trust2_4',\n",
       " 'Depend_on_others_1',\n",
       " 'Depend_on_others_2',\n",
       " 'Depend_on_others_3',\n",
       " 'Depend_on_others_4',\n",
       " 'Education_1',\n",
       " 'Education_2',\n",
       " 'Education_3',\n",
       " 'Education_4',\n",
       " 'Effects_on_next_gen_1',\n",
       " 'Effects_on_next_gen_2',\n",
       " 'Effects_on_next_gen_3',\n",
       " 'Effects_on_next_gen_4',\n",
       " 'Effects_on_others_1',\n",
       " 'Effects_on_others_2',\n",
       " 'Effects_on_others_3',\n",
       " 'Effects_on_others_4',\n",
       " 'Fut_Gen_1',\n",
       " 'Fut_Gen_2',\n",
       " 'Fut_Gen_3',\n",
       " 'Fut_Gen_4',\n",
       " 'GameID',\n",
       " 'Game_goal_1_1',\n",
       " 'Game_goal_1_2',\n",
       " 'Game_goal_1_3',\n",
       " 'Game_goal_1_4',\n",
       " 'Game_goal_2_1',\n",
       " 'Game_goal_2_2',\n",
       " 'Game_goal_2_3',\n",
       " 'Game_goal_2_4',\n",
       " 'Game_goal_3_1',\n",
       " 'Game_goal_3_2',\n",
       " 'Game_goal_3_3',\n",
       " 'Game_goal_3_4',\n",
       " 'Game_goal_4_1',\n",
       " 'Game_goal_4_2',\n",
       " 'Game_goal_4_3',\n",
       " 'Game_goal_4_4',\n",
       " 'Gender_1',\n",
       " 'Gender_2',\n",
       " 'Gender_3',\n",
       " 'Gender_4',\n",
       " 'Gov_resp_1',\n",
       " 'Gov_resp_2',\n",
       " 'Gov_resp_3',\n",
       " 'Gov_resp_4',\n",
       " 'Neg_wellb_1',\n",
       " 'Neg_wellb_2',\n",
       " 'Neg_wellb_3',\n",
       " 'Neg_wellb_4',\n",
       " 'Pos_wellb_1',\n",
       " 'Pos_wellb_2',\n",
       " 'Pos_wellb_3',\n",
       " 'Pos_wellb_4',\n",
       " 'Rel1_1',\n",
       " 'Rel1_2',\n",
       " 'Rel1_3',\n",
       " 'Rel1_4',\n",
       " 'Rel2_1',\n",
       " 'Rel2_2',\n",
       " 'Rel2_3',\n",
       " 'Rel2_4',\n",
       " 'Rel3_1',\n",
       " 'Rel3_2',\n",
       " 'Rel3_3',\n",
       " 'Rel3_4',\n",
       " 'RespHOH_1',\n",
       " 'RespHOH_2',\n",
       " 'RespHOH_3',\n",
       " 'RespHOH_4',\n",
       " 'Risk_social_1',\n",
       " 'Risk_social_2',\n",
       " 'Risk_social_3',\n",
       " 'Risk_social_4',\n",
       " 'Treatments',\n",
       " 'Trust_govt_1',\n",
       " 'Trust_govt_2',\n",
       " 'Trust_govt_3',\n",
       " 'Trust_govt_4',\n",
       " 'Trust_natpark_1',\n",
       " 'Trust_natpark_2',\n",
       " 'Trust_natpark_3',\n",
       " 'Trust_natpark_4',\n",
       " 'country',\n",
       " 'envProduction',\n",
       " 'primary_farming_1',\n",
       " 'primary_farming_2',\n",
       " 'primary_farming_3',\n",
       " 'primary_farming_4',\n",
       " 'primary_priv_tour_1',\n",
       " 'primary_priv_tour_2',\n",
       " 'primary_priv_tour_3',\n",
       " 'primary_priv_tour_4',\n",
       " 'secondary_farming_1',\n",
       " 'secondary_farming_2',\n",
       " 'secondary_farming_3',\n",
       " 'secondary_farming_4',\n",
       " 'secondary_priv_tour_1',\n",
       " 'secondary_priv_tour_2',\n",
       " 'secondary_priv_tour_3',\n",
       " 'secondary_priv_tour_4',\n",
       " 'subsidy'}"
      ]
     },
     "execution_count": 49,
     "metadata": {},
     "output_type": "execute_result"
    }
   ],
   "source": [
    "common_columns = set(orkney.columns).intersection(set(gabon.columns)).intersection(set(tanzania.columns)).intersection(set(madken.columns))\n",
    "print(len(common_columns))\n",
    "common_columns"
   ]
  },
  {
   "cell_type": "code",
   "execution_count": 50,
   "metadata": {},
   "outputs": [],
   "source": [
    "# save the combined dataset (4)\n",
    "pd.concat([orkney[common_columns], gabon[common_columns], tanzania[common_columns], madken[common_columns]], axis=0).to_csv('combined4.csv')"
   ]
  },
  {
   "cell_type": "code",
   "execution_count": 51,
   "metadata": {},
   "outputs": [
    {
     "name": "stdout",
     "output_type": "stream",
     "text": [
      "33\n"
     ]
    },
    {
     "data": {
      "text/plain": [
       "{'Age_1',\n",
       " 'Age_2',\n",
       " 'Age_3',\n",
       " 'Age_4',\n",
       " 'Education_1',\n",
       " 'Education_2',\n",
       " 'Education_3',\n",
       " 'Education_4',\n",
       " 'GameID',\n",
       " 'Gender_1',\n",
       " 'Gender_2',\n",
       " 'Gender_3',\n",
       " 'Gender_4',\n",
       " 'Rel1_1',\n",
       " 'Rel1_2',\n",
       " 'Rel1_3',\n",
       " 'Rel1_4',\n",
       " 'Rel2_1',\n",
       " 'Rel2_2',\n",
       " 'Rel2_3',\n",
       " 'Rel2_4',\n",
       " 'Rel3_1',\n",
       " 'Rel3_2',\n",
       " 'Rel3_3',\n",
       " 'Rel3_4',\n",
       " 'RespHOH_1',\n",
       " 'RespHOH_2',\n",
       " 'RespHOH_3',\n",
       " 'RespHOH_4',\n",
       " 'Treatments',\n",
       " 'country',\n",
       " 'envProduction',\n",
       " 'subsidy'}"
      ]
     },
     "execution_count": 51,
     "metadata": {},
     "output_type": "execute_result"
    }
   ],
   "source": [
    "common_columns = set(orkney.columns).intersection(set(gabon.columns)).intersection(set(tanzania.columns)).intersection(set(madken.columns)).intersection(set(vietcamb.columns))\n",
    "print(len(common_columns))\n",
    "common_columns"
   ]
  },
  {
   "cell_type": "code",
   "execution_count": 52,
   "metadata": {},
   "outputs": [],
   "source": [
    "# save the combined dataset\n",
    "pd.concat([orkney[common_columns], gabon[common_columns], tanzania[common_columns], madken[common_columns], vietcamb[common_columns]], axis=0).to_csv('combined6.csv')"
   ]
  },
  {
   "cell_type": "code",
   "execution_count": null,
   "metadata": {},
   "outputs": [],
   "source": []
  }
 ],
 "metadata": {
  "kernelspec": {
   "display_name": "Python 3",
   "language": "python",
   "name": "python3"
  },
  "language_info": {
   "codemirror_mode": {
    "name": "ipython",
    "version": 3
   },
   "file_extension": ".py",
   "mimetype": "text/x-python",
   "name": "python",
   "nbconvert_exporter": "python",
   "pygments_lexer": "ipython3",
   "version": "3.7.6"
  }
 },
 "nbformat": 4,
 "nbformat_minor": 4
}
